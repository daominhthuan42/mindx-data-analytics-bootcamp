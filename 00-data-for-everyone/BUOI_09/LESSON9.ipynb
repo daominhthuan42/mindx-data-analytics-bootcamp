{
 "cells": [
  {
   "cell_type": "markdown",
   "metadata": {
    "id": "IpEwkvXddOet"
   },
   "source": [
    "# <center> <b> LECTURE 01 : GIỚI THIỆU VỀ PYTHON"
   ]
  },
  {
   "cell_type": "markdown",
   "metadata": {
    "id": "hkRLZZzndYqC"
   },
   "source": [
    "### <b> 1. Giới thiệu vai trò Python trong lĩnh vực DA."
   ]
  },
  {
   "cell_type": "code",
   "execution_count": null,
   "metadata": {
    "id": "_2VeQ-sFfaTo"
   },
   "outputs": [
    {
     "name": "stdout",
     "output_type": "stream",
     "text": [
      "Hello World!\n"
     ]
    }
   ],
   "source": [
    "# 1.1 Một số công việc sử dụng Python trong lĩnh vực DA\n",
    "\n",
    "# 1.2 Một số ứng dụng dự án ở công ty liên quan đến Python.\n",
    "print(\"Hello World!\")"
   ]
  },
  {
   "cell_type": "markdown",
   "metadata": {
    "id": "sX7feGlSebyY"
   },
   "source": [
    "### <b> 2 Comment trong python"
   ]
  },
  {
   "cell_type": "code",
   "execution_count": null,
   "metadata": {
    "id": "MGoNktC6T3fX"
   },
   "outputs": [],
   "source": [
    "# Cách comment trong Python.\n",
    "# Đặt dấu #, hoặc nhấn Ctrl + /\n",
    "\n",
    "# Dấu thăng trong python dùng để comment\n",
    "# Thuấn đẹp trai"
   ]
  },
  {
   "cell_type": "markdown",
   "metadata": {
    "id": "x6MHn36yyhFn"
   },
   "source": [
    "### <b> 3 Các biến trong Python\n"
   ]
  },
  {
   "cell_type": "code",
   "execution_count": null,
   "metadata": {
    "id": "KpQldAjTyYWc"
   },
   "outputs": [
    {
     "ename": "SyntaxError",
     "evalue": "cannot assign to literal here. Maybe you meant '==' instead of '='? (3241132950.py, line 6)",
     "output_type": "error",
     "traceback": [
      "  \u001b[36mCell\u001b[39m\u001b[36m \u001b[39m\u001b[32mIn[1]\u001b[39m\u001b[32m, line 6\u001b[39m\n\u001b[31m    \u001b[39m\u001b[31m27 = \"Lớp học\" # Sai : Tên biến không được bắt đầu bằng số\u001b[39m\n    ^\n\u001b[31mSyntaxError\u001b[39m\u001b[31m:\u001b[39m cannot assign to literal here. Maybe you meant '==' instead of '='?\n"
     ]
    }
   ],
   "source": [
    "# 3.1 Sử dụng dấu = để gán giá trị cho biến.\n",
    "# Quy tắt 1 : Kí tự đầu tiên bắt đầu là chữ A- Z, a- z hoặc dấu gạch dưới (_)\n",
    "# Từ ký tự số hai trở đi là bao gồm A-Z, a-z, 0-9, hoặc dấu gạch dưới (_)\n",
    "\n",
    "ac = 1 # Đúng : Tên biến bắt đầu bằng chữ\n",
    "27 = \"Lớp học\" # Sai : Tên biến không được bắt đầu bằng số\n",
    "_27 = \"Lớp học\" # Đúng :  Tên biến có thể bắt đầu bằng dấu _\n",
    "a!c = 3 # Sai : Kí tự thứ 2 bắt đầu là dấu !\n",
    "a c = 3 # Sai vì trong biến k có space."
   ]
  },
  {
   "cell_type": "code",
   "execution_count": null,
   "metadata": {
    "id": "bavq-Nr7zADU"
   },
   "outputs": [],
   "source": [
    "# Quy tắc 2 : PYTHON PHÂN BIẾT CHỮ HOA VÀ THƯỜNG\n",
    "MINDX = \"Value1\";\n",
    "Mindx = \"VAlue1\";"
   ]
  },
  {
   "cell_type": "code",
   "execution_count": 4,
   "metadata": {
    "id": "6KhadVEhxloM"
   },
   "outputs": [
    {
     "name": "stdout",
     "output_type": "stream",
     "text": [
      "Số bạn vừa nhập là  3\n"
     ]
    }
   ],
   "source": [
    "# 3.2 Hàm input()\n",
    "# Hàm input() được sử dụng để nhận dữ liệu đầu vào từ người dùng dưới dạng một chuỗi (string).\n",
    "# In ra màn hình: sử dụng câu lệnh print('nội dung muốn in ra')\n",
    "# Sử dụng biến a để lưu thông tin nhập vào từ bàn phím , sau đó in ra biến a.\n",
    "\n",
    "a = input(\"Bạn ơi hãy nhập giắ trị gì đi\")\n",
    "print(\"Số bạn vừa nhập là \", a)\n",
    "\n",
    "\n",
    "# a : Biến\n",
    "# input() : Nhập giá trị từ bàn phím\n",
    "# print in ra giá trị mà bạn mong muốn"
   ]
  },
  {
   "cell_type": "markdown",
   "metadata": {
    "id": "6r228h0VRgPB"
   },
   "source": [
    "#### **Note**: 📑📑📑 : Kiểu dữ liệu output của hàm **input()** luôn luôn là string"
   ]
  },
  {
   "cell_type": "markdown",
   "metadata": {
    "id": "msd91jdO0tbX"
   },
   "source": [
    "### <b> 4. Kiểu dữ liệu trong Python ❄"
   ]
  },
  {
   "cell_type": "markdown",
   "metadata": {
    "id": "WtFqiyKbJq0r"
   },
   "source": [
    "#### <b> 4.1 Kiểu số 🔢(int) và float\n",
    "\n"
   ]
  },
  {
   "cell_type": "code",
   "execution_count": 5,
   "metadata": {
    "id": "mkrNFYaVJ6L6"
   },
   "outputs": [
    {
     "name": "stdout",
     "output_type": "stream",
     "text": [
      "<class 'float'>\n",
      "<class 'int'>\n"
     ]
    }
   ],
   "source": [
    "# Slide 31\n",
    "# Hàm type() trong Python dùng để: Kiểm tra kiểu dữ liệu của một biến.\n",
    "\n",
    "a = 5.566\n",
    "print( type(a) ) # Hiện thị ra kiểu dữ liệu của biến a\n",
    "\n",
    "b = 1\n",
    "print(type(b)) # Hiện thị ra kiểu dữ liệu của biến a"
   ]
  },
  {
   "cell_type": "code",
   "execution_count": null,
   "metadata": {
    "id": "J80Pt6jaTbV7"
   },
   "outputs": [],
   "source": [
    "# Hướng dẫn học ép kiểu trong hàm input()"
   ]
  },
  {
   "cell_type": "markdown",
   "metadata": {
    "id": "nZMtqG5_KDdV"
   },
   "source": [
    "#### <b> 4.2 Kiểu boolean\n",
    "\n"
   ]
  },
  {
   "cell_type": "code",
   "execution_count": null,
   "metadata": {
    "id": "iipQ46jSKIxB"
   },
   "outputs": [],
   "source": [
    "# Kiểu boolean có 2 giá trị là True và False.\n",
    "\n",
    "a = 5 > 6 # False\n",
    "print(type(a)) # Kiểu dữ liệu cho biến a\n",
    "print(a) # Giá trị của a"
   ]
  },
  {
   "cell_type": "markdown",
   "metadata": {
    "id": "P2l-gaDCKpO3"
   },
   "source": [
    "#### <b> 4.3 Kiểu string\n",
    "\n"
   ]
  },
  {
   "cell_type": "code",
   "execution_count": 6,
   "metadata": {
    "id": "2gVmtBFo0wLP"
   },
   "outputs": [
    {
     "name": "stdout",
     "output_type": "stream",
     "text": [
      "hello | Thuận | 你好\n",
      "<class 'str'>\n",
      "<class 'str'>\n",
      "<class 'str'>\n"
     ]
    }
   ],
   "source": [
    "# str : Sự khác nhau giữa string ở SQL và Python ?\n",
    "# SQL : ''\n",
    "# table : Object\n",
    "a = \"hello\" # varchar\n",
    "b = \"Thuận\" # nvarchar\n",
    "c = \"你好\"  # nvarchar\n",
    "print(a,\"|\",b,\"|\",c)\n",
    "print(type(a))\n",
    "print(type(b))\n",
    "print(type(c))"
   ]
  },
  {
   "cell_type": "markdown",
   "metadata": {
    "id": "PS-UhBV9udHI"
   },
   "source": [
    "### <b> 5. Các toán tử trong Python\n",
    "\n"
   ]
  },
  {
   "cell_type": "markdown",
   "metadata": {
    "id": "E0viQtE1ulbv"
   },
   "source": [
    "#### 5.1 Toán tử số học"
   ]
  },
  {
   "cell_type": "code",
   "execution_count": null,
   "metadata": {
    "id": "Rrf1LBgE_lT1"
   },
   "outputs": [],
   "source": [
    "# Slide 43\n",
    "a = 5\n",
    "b = 10\n",
    "\n",
    "print(\"kết quả của a + b là \", a + b)"
   ]
  },
  {
   "cell_type": "code",
   "execution_count": null,
   "metadata": {
    "id": "hf4NoXXRuRhw"
   },
   "outputs": [],
   "source": [
    "# 5.1.1 Các phép tính thông thường : +, - , * , /\n",
    "a = 10\n",
    "b = 3\n",
    "\n",
    "print(a % b) # Là phép tính phần dư của phép chia. output: 1\n",
    "print(a // b) # giá trị phần nguyên của phép chia. # 3\n",
    "\n",
    "print(a ** b) # 10^3\n"
   ]
  },
  {
   "cell_type": "markdown",
   "metadata": {
    "id": "oEHMDz2JxIvV"
   },
   "source": [
    "#### 5.2 Toán tử so sánh"
   ]
  },
  {
   "cell_type": "code",
   "execution_count": null,
   "metadata": {
    "id": "mvIo4Jyghfl0"
   },
   "outputs": [],
   "source": [
    "# Phần này giới thiệu cho các bạn học viên trong slide."
   ]
  },
  {
   "cell_type": "markdown",
   "metadata": {
    "id": "OGPcZDCUxdyT"
   },
   "source": [
    "#### 5.3 Toán tử logic, nhận dạng"
   ]
  },
  {
   "cell_type": "code",
   "execution_count": null,
   "metadata": {
    "id": "DwAq3ob-xiE6"
   },
   "outputs": [],
   "source": [
    "# 5.4.1 Ví dụ về and và not\n",
    "a = 2\n",
    "b = 3\n",
    "z = 5\n",
    "print(b > a and z > b)\n",
    "\n",
    "print(not( b > a and z > b ) )"
   ]
  },
  {
   "cell_type": "markdown",
   "metadata": {
    "id": "aPCZVIjUe55L"
   },
   "source": [
    "#### 5.4 Toán tử in"
   ]
  },
  {
   "cell_type": "code",
   "execution_count": null,
   "metadata": {
    "id": "B4DL7rHSVaPs"
   },
   "outputs": [],
   "source": [
    "# in dùng để kiểm tra một giá trị có tồn tại bên trong 1 giá trị khác.\n",
    "a = \"th\"\n",
    "b = \"thuan\"\n",
    "print(a in b) # kiểm tra xem th có nằm trong chữ thuan không ?"
   ]
  },
  {
   "cell_type": "markdown",
   "metadata": {
    "id": "hfgtgBZazdtp"
   },
   "source": [
    "### <b> 6. Giới thiệu về list ( Slide 34)\n",
    "\n"
   ]
  },
  {
   "cell_type": "markdown",
   "metadata": {
    "id": "nTNQVxwWikhu"
   },
   "source": [
    "#### 6.1 Cách khai báo list."
   ]
  },
  {
   "cell_type": "code",
   "execution_count": 13,
   "metadata": {
    "id": "Mzk81i3MXKhk"
   },
   "outputs": [
    {
     "name": "stdout",
     "output_type": "stream",
     "text": [
      "<class 'int'>\n",
      "<class 'int'>\n",
      "<class 'str'>\n",
      "<class 'str'>\n",
      "<class 'list'>\n"
     ]
    }
   ],
   "source": [
    "# Ví dụ trong slide 36\n",
    "# Xác định kiểu dữ liệu từng phần tử trong list dưới đây\n",
    "x = [1,2,'abc', \"xyz\", [1,2,3]]\n",
    "print(type(x[0]))\n",
    "print(type(x[1]))\n",
    "print(type(x[2]))\n",
    "print(type(x[3]))\n",
    "print(type(x[4]))"
   ]
  },
  {
   "cell_type": "code",
   "execution_count": 14,
   "metadata": {
    "id": "m7qNpZFfkVEY"
   },
   "outputs": [
    {
     "name": "stdout",
     "output_type": "stream",
     "text": [
      "Index từ trái sang phải 0 đến 4\n",
      "4 5 1 2 6\n",
      "Index từ phải sang trái -1 đến -5\n",
      "5 6 2 1 5 "
     ]
    }
   ],
   "source": [
    "# 6.1.1 Cách truy cập đến các giá trị trong list\n",
    "# Note : Để truy cập giá trị trong list sử dụng cú pháp như sau.\n",
    "# my_list[index] : Truy cập đến 1 phần tử trong list dựa theo index\n",
    "# Index từ trai sang phải 0 - 4\n",
    "my_list = [4,5,1,2,6,5]\n",
    "\n",
    "print(\"Index từ trái sang phải 0 đến 4\")\n",
    "print(my_list[0], end = ' ')\n",
    "print(my_list[1] , end = ' ')\n",
    "print(my_list[2], end = ' ')\n",
    "print(my_list[3], end = ' ')\n",
    "print(my_list[4])\n",
    "\n",
    "\n",
    "print(\"Index từ phải sang trái -1 đến -5\")\n",
    "print(my_list[-1], end = ' ')\n",
    "print(my_list[-2], end = ' ')\n",
    "print(my_list[-3], end = ' ')\n",
    "print(my_list[-4], end = ' ')\n",
    "print(my_list[-5], end = ' ')"
   ]
  },
  {
   "cell_type": "markdown",
   "metadata": {
    "id": "z81zTypPjAp5"
   },
   "source": [
    "#### 6.2 Các dạng truy vấn trong list : **NÂNG CAO** ❄"
   ]
  },
  {
   "cell_type": "code",
   "execution_count": 8,
   "metadata": {
    "id": "hOSfrU_ulfM6"
   },
   "outputs": [
    {
     "name": "stdout",
     "output_type": "stream",
     "text": [
      "[4, 5, 1]\n"
     ]
    }
   ],
   "source": [
    "# Truy cập đến nhiều 1 phần của List.\n",
    "# my_list[start:end] : start - (end-1)\n",
    "# Dạng 1 :\n",
    "my_list = [4,5,1,2,6]\n",
    "\n",
    "print(my_list[0:3]) # In ra danh sách list từ index = 0 tới index = 2 (end -1)"
   ]
  },
  {
   "cell_type": "code",
   "execution_count": 9,
   "metadata": {
    "id": "jfXKyuUU1al1"
   },
   "outputs": [
    {
     "data": {
      "text/plain": [
       "[4, 5, 1, 2, 6]"
      ]
     },
     "execution_count": 9,
     "metadata": {},
     "output_type": "execute_result"
    }
   ],
   "source": [
    "# Dạng 2 :\n",
    "my_list[0:    ] # In ra danh sách list từ index = 0 trở về sau.\n",
    "# start : 0\n",
    "# : end :\n",
    "# Note : Nếu không ghi end thì mặc định là chạy về index cuối cùng."
   ]
  },
  {
   "cell_type": "code",
   "execution_count": 10,
   "metadata": {
    "id": "oA5NhL5l13oo"
   },
   "outputs": [
    {
     "data": {
      "text/plain": [
       "[4, 5, 1]"
      ]
     },
     "execution_count": 10,
     "metadata": {},
     "output_type": "execute_result"
    }
   ],
   "source": [
    "# Dạng 3\n",
    "my_list[:3] # In ra danh sách list từ index = 2 (end - 1) trở về trước đó. : 0,1,2"
   ]
  },
  {
   "cell_type": "markdown",
   "metadata": {
    "id": "qBstuRCD37Ak"
   },
   "source": [
    "**LƯU Ý** 📓"
   ]
  },
  {
   "cell_type": "code",
   "execution_count": null,
   "metadata": {
    "id": "8GX3X6cO2xpc"
   },
   "outputs": [
    {
     "data": {
      "text/plain": [
       "[4, 5, 1, 2, 6]"
      ]
     },
     "execution_count": 11,
     "metadata": {},
     "output_type": "execute_result"
    }
   ],
   "source": [
    "##### TIPS :\n",
    "# my_list[index] : Lấy ra giá trị 1 phần tử trong list dựa theo index. : my_list[0],\n",
    "\n",
    "# my_list[start:end] : NẾU CHÚNG TA NHẬP GIÁ TRỊ Ở END :\n",
    "# Thì có nghĩa bắt đầu từ index = start đến index = end -1\n",
    "\n",
    "# NẾU CHÚNG TA KHÔNG NHẬP GIÁ TRỊ Ở END thì có nghĩa bắt đầu từ\n",
    "#  index = start đến index cuối cùng.\n",
    "\n",
    "my_list[0:3] # 4, 5, 1\n",
    "my_list[0:] # 4, 5, 1, 2, 6\n"
   ]
  },
  {
   "cell_type": "markdown",
   "metadata": {
    "id": "G2guo1uH4T2y"
   },
   "source": [
    "#### 6.3 Các phương thức list"
   ]
  },
  {
   "cell_type": "code",
   "execution_count": 15,
   "metadata": {
    "id": "RmjU7fjt4WTh"
   },
   "outputs": [
    {
     "name": "stdout",
     "output_type": "stream",
     "text": [
      "Giá trị list ban đầu :  [4, 5, 1, 2, 6]\n",
      "Giá trị sau khi append :  [4, 5, 1, 2, 6, 10]\n"
     ]
    }
   ],
   "source": [
    "# 6.3.1 Phương thức append() được sử dụng để thêm mới một phần tử vào cuối list.\n",
    "my_list = [4,5,1,2,6]\n",
    "print(\"Giá trị list ban đầu : \", my_list)\n",
    "my_list.append(10)\n",
    "print(\"Giá trị sau khi append : \", my_list)\n"
   ]
  },
  {
   "cell_type": "code",
   "execution_count": null,
   "metadata": {
    "id": "qwYjV3VAm6vc"
   },
   "outputs": [],
   "source": [
    "# 6.3.2 Phương thức insert(index, value)\n",
    "# được sử dụng để thêm mới một phần tử vào vị trí cụ thể trong list.\n",
    "# Ví dụ 1 :\n",
    "my_list = [4,5,1,2,6]\n",
    "print(\"Giá trị list ban đầu : \", my_list)\n",
    "my_list.insert(1,8)\n",
    "print(\"Giá trị sau khi inseret : \", my_list)\n",
    "\n",
    "# 1 : Thêm số 2 vào trước số đang giữ index là 1 : nằm phía bên trái"
   ]
  },
  {
   "cell_type": "code",
   "execution_count": 39,
   "metadata": {
    "colab": {
     "base_uri": "https://localhost:8080/"
    },
    "executionInfo": {
     "elapsed": 37,
     "status": "ok",
     "timestamp": 1745658962525,
     "user": {
      "displayName": "Tran Thuan",
      "userId": "08665530581806032572"
     },
     "user_tz": -420
    },
    "id": "S8qIjfnWYcFa",
    "outputId": "04d0528c-159a-4c32-fa70-05e023edad6d"
   },
   "outputs": [
    {
     "name": "stdout",
     "output_type": "stream",
     "text": [
      "Giá trị list ban đầu :  [4, 5, 1, 2, 6]\n",
      "Giá trị sau khi inseret :  [4, 5, 1, 2, 8, 6]\n"
     ]
    }
   ],
   "source": [
    "my_list = [4,5,1,2,6]\n",
    "print(\"Giá trị list ban đầu : \", my_list)\n",
    "my_list.insert(-1,8)\n",
    "print(\"Giá trị sau khi inseret : \", my_list)"
   ]
  },
  {
   "cell_type": "markdown",
   "metadata": {
    "id": "T4FmkvzG7qH2"
   },
   "source": [
    "**LƯU Ý** 📓 : insert trong list : my_list.insert(index, giatri)\n",
    "\n",
    "  my_list : Tên list của bạn.\n",
    "\n",
    "  insert  : Phương thức trong list.\n",
    "\n",
    "  giatri  : Giá trị bạn muốn thêm vào list\n",
    "\n",
    "  index   : Vị trí bạn muốn thêm nằm ở phía bên TRÁI phần tử đang giữ index đó."
   ]
  },
  {
   "cell_type": "code",
   "execution_count": 40,
   "metadata": {
    "colab": {
     "base_uri": "https://localhost:8080/"
    },
    "executionInfo": {
     "elapsed": 11,
     "status": "ok",
     "timestamp": 1745658989153,
     "user": {
      "displayName": "Tran Thuan",
      "userId": "08665530581806032572"
     },
     "user_tz": -420
    },
    "id": "RGzXb7Pa9GNh",
    "outputId": "3451f7c2-398a-46be-c14c-b7503c4b27b6"
   },
   "outputs": [
    {
     "name": "stdout",
     "output_type": "stream",
     "text": [
      "[1, 2, 4, 5, 6]\n"
     ]
    }
   ],
   "source": [
    "# 6.3.3 Phương thức sort() dùng để sắp xếp lại các phần tử trong list.\n",
    "# Dạng 1 : Tăng dần\n",
    "my_list = [4,5,1,2,6]\n",
    "my_list.sort()\n",
    "print(my_list)\n",
    "# asc SQL"
   ]
  },
  {
   "cell_type": "code",
   "execution_count": 41,
   "metadata": {
    "colab": {
     "base_uri": "https://localhost:8080/"
    },
    "executionInfo": {
     "elapsed": 14,
     "status": "ok",
     "timestamp": 1745658991346,
     "user": {
      "displayName": "Tran Thuan",
      "userId": "08665530581806032572"
     },
     "user_tz": -420
    },
    "id": "BC_aNidy9gq5",
    "outputId": "cb00d66f-d785-41f5-a7da-3d6270b37365"
   },
   "outputs": [
    {
     "name": "stdout",
     "output_type": "stream",
     "text": [
      "[6, 5, 4, 2, 1]\n"
     ]
    }
   ],
   "source": [
    "# Dạng 2 : Giảm dần\n",
    "my_list = [4,5,1,2,6]\n",
    "my_list.sort(reverse = True)\n",
    "print(my_list)"
   ]
  },
  {
   "cell_type": "code",
   "execution_count": 20,
   "metadata": {
    "id": "Vc4cyTis-2ll"
   },
   "outputs": [
    {
     "name": "stdout",
     "output_type": "stream",
     "text": [
      "[5, 1, 2, 6, 4, 4, 4, 4]\n"
     ]
    }
   ],
   "source": [
    "# 6.3.5 Phương thức pop() và remove() trong list\n",
    "# 6.3.5.1 remove() : Xóa phần tử (item) trong list\n",
    "# Lưu ý : Nếu phần tử đó xuất hiện nhiều hơn 2 lần thì xóa phần tử đầu tiên\n",
    "my_list = [4,5,1,2,6,4,4,4,4]\n",
    "my_list.remove(4)\n",
    "print(my_list)"
   ]
  },
  {
   "cell_type": "code",
   "execution_count": 21,
   "metadata": {
    "id": "fme6hobYAvm8"
   },
   "outputs": [
    {
     "name": "stdout",
     "output_type": "stream",
     "text": [
      "[4, 5, 1, 2, 4]\n"
     ]
    }
   ],
   "source": [
    "# 6.3.5.2 pop() : Xóa phần tử DỰA THEO index nhập vào.\n",
    "my_list = [4,5,1,2,6,4]\n",
    "my_list.pop(4)\n",
    "print(my_list)"
   ]
  },
  {
   "cell_type": "code",
   "execution_count": 18,
   "metadata": {
    "id": "GHKAZhvJpXWR"
   },
   "outputs": [
    {
     "name": "stdout",
     "output_type": "stream",
     "text": [
      "[1, 2, 3, 5, 7, 'a', 'a']\n"
     ]
    }
   ],
   "source": [
    "# Mở rộng : Trong Python có thể nối 2 list lại được bằng cách sử dụng dấu +\n",
    "# Giới thiệu về extend và +\n",
    "_list1 = [1,2]\n",
    "_list2 = [3,5,7,'a']\n",
    "_list3 = ['a']\n",
    "\n",
    "_list4 = _list1 + _list2 + _list3\n",
    "print(_list4) # [1, 2, 3, 5, 7, 'a', 'a']"
   ]
  },
  {
   "cell_type": "markdown",
   "metadata": {
    "id": "RuW-MN_4BFH_"
   },
   "source": [
    "### <b> 7. if/else\n",
    "\n"
   ]
  },
  {
   "cell_type": "code",
   "execution_count": null,
   "metadata": {
    "id": "_NccLAued_UB"
   },
   "outputs": [],
   "source": [
    "# Lưu ý :\n",
    "# 1. if trong python if,elif và else bắt buộc viết in thường\n",
    "# 2. câu lệnh if trong python không bắt buộc phải có else hoặc elif\n",
    "# 3. Sau cuối câu lệnh if,elif, else bắt buộc phải có dấu:\n",
    "# else:\n",
    "# 4. Lưu ý và thụt vào đầu dòng trong if. Đưa ra ví dụ cho các bạn học viên"
   ]
  },
  {
   "cell_type": "markdown",
   "metadata": {
    "id": "-sCF9cub1d-5"
   },
   "source": [
    "### <b> 8.BÀI TẬP NÂNG CAO VỀ IF TRONG PYTHON\n",
    "\n"
   ]
  },
  {
   "cell_type": "code",
   "execution_count": 32,
   "metadata": {
    "id": "U2oGNjcD3pBG"
   },
   "outputs": [
    {
     "name": "stdout",
     "output_type": "stream",
     "text": [
      "Số bạn vừa nhập là số lẻ\n"
     ]
    }
   ],
   "source": [
    "# Khai báo 1 biến a : Nhập giá trị từ bàn phím\n",
    "# Nếu a mà là số chẵn : Số bạn vừa nhập là số chẵn\n",
    "# NGược lại in ra là : Số bạn vừa nhập là số lẻ.\n",
    "a = int(input(\"Nhập số nguyên a: \"))\n",
    "if a % 2 == 0:\n",
    "    print(\"Số bạn vừa nhập là số chẵn\")\n",
    "else:\n",
    "    print(\"Số bạn vừa nhập là số lẻ\")"
   ]
  },
  {
   "cell_type": "code",
   "execution_count": 33,
   "metadata": {
    "id": "VJCuTP21eZ4p"
   },
   "outputs": [
    {
     "name": "stdout",
     "output_type": "stream",
     "text": [
      "Trung vị là: 5.5\n"
     ]
    }
   ],
   "source": [
    "# Tao ra 1 list ví dụ\n",
    "# [1,2,3,6,7]\n",
    "# [1,2,3,6,7,2]\n",
    "# Tính giá trị trung vị cho list này\n",
    "# len(list)\n",
    "def median(list):\n",
    "    list.sort()\n",
    "    n = len(list)\n",
    "    if n % 2 == 0:\n",
    "        return (list[n//2] + list[n//2 - 1]) / 2\n",
    "    else:\n",
    "        return list[n//2]\n",
    "\n",
    "data = [7, 1, 3, 5, 4, 7, 2, 6, 8, 9]\n",
    "print(\"Trung vị là:\", median(data))"
   ]
  },
  {
   "cell_type": "markdown",
   "metadata": {},
   "source": [
    "### <b> 9. BÀI TẬP THỰC HÀNH"
   ]
  },
  {
   "cell_type": "code",
   "execution_count": 19,
   "metadata": {},
   "outputs": [
    {
     "name": "stdout",
     "output_type": "stream",
     "text": [
      "Tổng của 2 số a và b là: 3\n"
     ]
    }
   ],
   "source": [
    "# Tạo 2 biến a, b. Yêu cầu người dùng nhập từ bàn phím 2 số ngẫu nhiên. \n",
    "# Sau đó in ra màn hình kết quả tổng của 2 số vừa nhập. \n",
    "a = input(\"Nhập số a: \")\n",
    "b = input(\"Nhập số b: \")\n",
    "print(f\"Tổng của 2 số a và b là: {int(a) + int(b)}\")"
   ]
  },
  {
   "cell_type": "code",
   "execution_count": 22,
   "metadata": {},
   "outputs": [
    {
     "name": "stdout",
     "output_type": "stream",
     "text": [
      "a không chia hết cho b\n"
     ]
    }
   ],
   "source": [
    "# Tạo 2 biến a và b. Yêu cầu người dùng nhập vào từ bàn phím 2 số ngẫu nhiên.\n",
    "# \tKiểm tra a có chia hết cho b hay không? Nếu có, in ra màn hình dòng chữ \n",
    "# \t“a chia het cho b”, ngược lại, in ra dòng chữ “ a khong chia het cho b” (nhập b khác 0)\n",
    "a = input(\"Nhập số a: \")\n",
    "b = input(\"Nhập số b: \")\n",
    "if(int(a) % int(b) == 0):\n",
    "    print(\"a chia hết cho b\")\n",
    "else:\n",
    "    print(\"a không chia hết cho b\")"
   ]
  },
  {
   "cell_type": "code",
   "execution_count": 5,
   "metadata": {},
   "outputs": [
    {
     "name": "stdout",
     "output_type": "stream",
     "text": [
      "2096 là năm nhuận.\n"
     ]
    }
   ],
   "source": [
    "# Tạo biến year yêu cầu người dùng nhập vào 1 số (giả sử người dùng luôn nhập\n",
    "# số > 0 ). Hãy kiểm tra year và in ra màn hình năm đó có phải là năm nhuận hay không?\n",
    "# Năm nhuận là năm chia hết cho 4 và không chia hết cho 100 hoặc chia hết cho 400\n",
    "year = input(\"Nhập năm: \")\n",
    "if((int(year) % 4 == 0 and int(year) % 100 != 0) or int(year) % 400 == 0):\n",
    "    print(f\"{year} là năm nhuận.\")\n",
    "else:\n",
    "    print(f\"{year} không phải là năm nhuận.\")\n"
   ]
  },
  {
   "cell_type": "code",
   "execution_count": 7,
   "metadata": {},
   "outputs": [
    {
     "name": "stdout",
     "output_type": "stream",
     "text": [
      "List sau khi thêm x: [4, 3, 5, 1, 2, 6]\n",
      "List sau khi thêm y: [4, 3, 5, 1, 2, 6, 9]\n"
     ]
    }
   ],
   "source": [
    "# Tạo 1 danh sách có 5 số. Sau đó tạo 2 biến x, y lưu trữ 2 số được nhập vào từ bàn phím.\n",
    "# Chèn x vào vị trí thứ 2 trong danh sách, y vào trị trí cuối cùng trong danh sách. \n",
    "myList = [4,5,1,2,6]\n",
    "x = input(\"Nhập số x: \")\n",
    "y = input(\"Nhập số y: \")\n",
    "myList.insert(1, int(x)) # vị trí thứ 2 là index \n",
    "print(f\"List sau khi thêm x: {myList}\")\n",
    "myList.insert(len(myList), int(y))\n",
    "print(f\"List sau khi thêm y: {myList}\")"
   ]
  },
  {
   "cell_type": "code",
   "execution_count": null,
   "metadata": {},
   "outputs": [
    {
     "name": "stdout",
     "output_type": "stream",
     "text": [
      "No\n",
      "Cách 2: Yes\n"
     ]
    }
   ],
   "source": [
    "# Tạo biến s lưu trữ kết quả mà người dùng nhập vào từ bàn phím. Kiểm tra xem trong a các ký tự đặc biệt không? \n",
    "# Nếu có, in ra màn hình dòng chữ ‘Yes’, ngược lại in ra dòng chữ ‘No’, biết rằng, ký tự đặc biệt là các ký tự !, @, #, $, ^\n",
    "# Cách 1:\n",
    "listSpecial = ['!', '@', '#', '$', '^']\n",
    "s = input(\"Nhập chuỗi: \")\n",
    "for i in range(len(s)): \n",
    "    if s[i] in listSpecial:\n",
    "        print(\"Cách 1: Yes\")\n",
    "        break\n",
    "else:\n",
    "    print(\"Cách 1: No\")\n",
    "\n",
    "# Cách 2 sử dụng regex\n",
    "import re\n",
    "s = input(\"Nhập chuỗi: \")\n",
    "r_pattern = re.compile(r\"[!@#$%^&*(),.?\\\":{}|<>]\")\n",
    "if r_pattern.search(s):\n",
    "    print(\"Cách 2: Yes\")\n",
    "else:\n",
    "    print(\"Cách 2: No\")"
   ]
  },
  {
   "cell_type": "code",
   "execution_count": 31,
   "metadata": {},
   "outputs": [
    {
     "name": "stdout",
     "output_type": "stream",
     "text": [
      "Ba cạnh vừa nhập là độ dài của một tam giác.\n"
     ]
    }
   ],
   "source": [
    "# Tạo 3 biến lưu trữ 3 số do người dùng nhập vào từ bàn phím.\n",
    "# Kiểm tra xem 3 giá trị vừa nhập phải là độ dài của 1 tam giác hay không?\n",
    "a = float(input(\"Nhập cạnh thứ nhất: \"))\n",
    "b = float(input(\"Nhập cạnh thứ hai: \"))\n",
    "c = float(input(\"Nhập cạnh thứ ba: \"))\n",
    "\n",
    "# Kiểm tra điều kiện tam giác\n",
    "if a + b > c and a + c > b and b + c > a:\n",
    "    print(\"Ba cạnh vừa nhập là độ dài của một tam giác.\")\n",
    "else:\n",
    "    print(\"Ba cạnh vừa nhập không phải là độ dài của một tam giác.\")"
   ]
  }
 ],
 "metadata": {
  "colab": {
   "provenance": [
    {
     "file_id": "1QWdwXRNiXPZdVsOR-bi5GJJWqmzGoFW2",
     "timestamp": 1745656303394
    }
   ],
   "toc_visible": true
  },
  "kernelspec": {
   "display_name": "Python 3",
   "name": "python3"
  },
  "language_info": {
   "codemirror_mode": {
    "name": "ipython",
    "version": 3
   },
   "file_extension": ".py",
   "mimetype": "text/x-python",
   "name": "python",
   "nbconvert_exporter": "python",
   "pygments_lexer": "ipython3",
   "version": "3.13.2"
  }
 },
 "nbformat": 4,
 "nbformat_minor": 0
}
