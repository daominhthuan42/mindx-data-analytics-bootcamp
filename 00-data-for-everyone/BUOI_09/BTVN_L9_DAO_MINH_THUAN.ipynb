{
 "cells": [
  {
   "cell_type": "markdown",
   "id": "f30b5656",
   "metadata": {},
   "source": [
    "# <center> <b> LECTURE 01: BTVN_L9_DAO_MINH_THUAN"
   ]
  },
  {
   "cell_type": "code",
   "execution_count": null,
   "id": "0feb769d",
   "metadata": {},
   "outputs": [],
   "source": [
    "# Bài tập 1: Nhập một số nguyên n khác 0 từ bàn phím, kiểm tra xem số n vừa nhập vào đó là số dương hay âm và in ra màn hình\n",
    "a = int(input(\"Nhập vào số nguyên n khác 0: \"))\n",
    "if a > 0:\n",
    "    print(\"Số dương\")\n",
    "elif a < 0:\n",
    "    print(\"Số âm\")\n",
    "else:\n",
    "    pass"
   ]
  },
  {
   "cell_type": "code",
   "execution_count": null,
   "id": "b0232384",
   "metadata": {},
   "outputs": [],
   "source": [
    "# Bài tập 2: Nhập điểm trung bình (dtb) của một học sinh từ bàn phím, sau đó in ra màn hình xếp loại của học sinh này. \n",
    "# \tBiết rằng: \n",
    "# -\tdtb < 4 : Xếp loại yếu \n",
    "# -\t4 <= dtb < 6.5: Xếp loại trung bình \n",
    "# -\t6.5 <= dtb < 8 : Xếp loại khá \n",
    "# -\tdtb >= 8 : Xếp loại giỏi \n",
    "avgScore = float(input(\"Nhập điểm trung bình: \"))\n",
    "if avgScore < 4:\n",
    "    print(\"Xếp loại yếu\")\n",
    "elif 4 <= avgScore < 6.5:\n",
    "    print(\"Xếp loại trung bình\")\n",
    "elif 6.5 <= avgScore < 8:\n",
    "    print(\"Xếp loại khá\")\n",
    "elif avgScore >= 8:\n",
    "    print(\"Xếp loại giỏi\") \n",
    "else:\n",
    "    pass"
   ]
  },
  {
   "cell_type": "code",
   "execution_count": null,
   "id": "82b20947",
   "metadata": {},
   "outputs": [],
   "source": [
    "# Bài tập 3: Nhập vào lần lượt 3 hệ số a, b, c của phương trình bậc 2 (ax^2+bx+c = 0).\n",
    "# Giải phương trình bậc 2 trên và in nghiệm ra màn hình.\n",
    "a = float(input(\"Nhập vào hệ số a: \"))\n",
    "b = float(input(\"Nhập vào hệ số b: \"))\n",
    "c = float(input(\"Nhập vào hệ số c: \"))\n",
    "if a == 0:\n",
    "   x = -c / b\n",
    "   print(f\"Phương trình có nghiệm: x = {x}\")\n",
    "else:\n",
    "    delta = b**2 - 4*a*c\n",
    "    if delta > 0:\n",
    "        x1 = (-b + delta**0.5) / (2*a)\n",
    "        x2 = (-b - delta**0.5) / (2*a)\n",
    "        print(f\"Phương trình có 2 nghiệm phân biệt: x1: {x1} - x2: {x2}\")\n",
    "    elif delta == 0:\n",
    "        x = -b / (2*a)\n",
    "        print(f\"Phương trình có nghiệm kép: x = {x}\")\n",
    "    elif delta < 0:\n",
    "        print(\"Phương trình vô nghiệm\")\n",
    "    else:\n",
    "        pass"
   ]
  },
  {
   "cell_type": "code",
   "execution_count": null,
   "id": "9e8b4461",
   "metadata": {},
   "outputs": [
    {
     "name": "stdout",
     "output_type": "stream",
     "text": [
      "Number of chicken: 22\n",
      "Number of dog: 14\n"
     ]
    }
   ],
   "source": [
    "# Bài tập 4: Hãy sử dụng Python để giải bài toán cổ sau : “ Vừa gà vừa chó, Bó lại cho tròn, Ba mươi sáu con, Một trăm chân chẵn “\n",
    "totalLeg = 100\n",
    "totalAnimal = 36\n",
    "\n",
    "for chicken in range(totalAnimal):\n",
    "    dog = totalAnimal - chicken\n",
    "    if (2 * chicken + 4 * dog) == 100:\n",
    "        print(f\"Number of chicken: {chicken}\")\n",
    "        print(f\"Number of dog: {dog}\")\n",
    "        break\n",
    "    else:\n",
    "        pass"
   ]
  },
  {
   "cell_type": "code",
   "execution_count": 4,
   "id": "1d943fb0",
   "metadata": {},
   "outputs": [
    {
     "name": "stdout",
     "output_type": "stream",
     "text": [
      "Ngày hôm qua: 11/05/2025\n",
      "Ngày hôm nay: 12/05/2025\n",
      "Ngày hôm sau: 13/05/2025\n"
     ]
    }
   ],
   "source": [
    "# Bài tập 5: Tạo 3 biến lưu trữ 3 giá trị nhập vào ngày tháng năm, in ra ngày hôm sau và ngày hôm qua của ngày vừa nhập.\n",
    "from datetime import datetime, timedelta\n",
    "# Nhập ngày, tháng, năm từ người dùng\n",
    "day = int(input(\"Nhập ngày: \"))\n",
    "month = int(input(\"Nhập tháng: \"))\n",
    "year = int(input(\"Nhập năm: \"))\n",
    "\n",
    "# Tạo biến  current_date chứa ngày, tháng, năm\n",
    "current_date = datetime(year, month, day)\n",
    "\n",
    "# Tính ngày hôm sau và hôm qua\n",
    "tomorrow = current_date + timedelta(days=1)\n",
    "yesterday = current_date - timedelta(days=1)\n",
    "\n",
    "# In kết quả\n",
    "print(\"Ngày hôm qua:\", yesterday.strftime(\"%d/%m/%Y\"))\n",
    "print(\"Ngày hôm nay:\", current_date.strftime(\"%d/%m/%Y\"))\n",
    "print(\"Ngày hôm sau:\", tomorrow.strftime(\"%d/%m/%Y\"))"
   ]
  }
 ],
 "metadata": {
  "kernelspec": {
   "display_name": "Python 3",
   "language": "python",
   "name": "python3"
  },
  "language_info": {
   "codemirror_mode": {
    "name": "ipython",
    "version": 3
   },
   "file_extension": ".py",
   "mimetype": "text/x-python",
   "name": "python",
   "nbconvert_exporter": "python",
   "pygments_lexer": "ipython3",
   "version": "3.13.2"
  }
 },
 "nbformat": 4,
 "nbformat_minor": 5
}
