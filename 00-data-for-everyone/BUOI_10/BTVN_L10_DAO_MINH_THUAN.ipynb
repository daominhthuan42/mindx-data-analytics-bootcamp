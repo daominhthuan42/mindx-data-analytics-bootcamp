{
 "cells": [
  {
   "cell_type": "markdown",
   "id": "091e4df4",
   "metadata": {},
   "source": [
    "# <center> <b> LECTURE 02: BTVN_L10_DAO_MINH_THUAN"
   ]
  },
  {
   "cell_type": "code",
   "execution_count": 5,
   "id": "5683b1b4",
   "metadata": {},
   "outputs": [
    {
     "name": "stdout",
     "output_type": "stream",
     "text": [
      "Vui lòng nhập một số lớn hơn 0.\n",
      "Vui lòng nhập một số lớn hơn 0.\n",
      "Đầu vào không hợp lệ. Vui lòng nhập một số nguyên.\n",
      "Đầu vào không hợp lệ. Vui lòng nhập một số nguyên.\n",
      "Bạn đã nhập số nguyên dương: 9\n",
      "9 không phải là số nguyên tố\n"
     ]
    }
   ],
   "source": [
    "# Viết một hàm kiem_tra_so_nguyen_to(n) nhận vào một số nguyên dương n và kiểm tra xem n có phải là số nguyên tố hay không.\n",
    "# Sử dụng vòng lặp và kiểm tra các ước số của n để thực hiện tác vụ này.\n",
    "def inputPositiveInteger():\n",
    "    while True:\n",
    "        try:\n",
    "            n = int(input(\"Nhập một số nguyên dương: \"))\n",
    "            if n > 0:\n",
    "                print(f\"Bạn đã nhập số nguyên dương: {n}\")\n",
    "                break\n",
    "            else:\n",
    "                print(\"Vui lòng nhập một số lớn hơn 0.\")\n",
    "        except ValueError:\n",
    "            print(\"Đầu vào không hợp lệ. Vui lòng nhập một số nguyên.\")\n",
    "    return n\n",
    "\n",
    "def checkingPrimeNumber(n):\n",
    "    isPrimeNumber = True\n",
    "    if n <= 1:\n",
    "        isPrimeNumber = False\n",
    "    else:\n",
    "        for i in range(2, int(n ** 0.5) + 1):\n",
    "            if n % i == 0:\n",
    "                isPrimeNumber = False\n",
    "                break\n",
    "            else:\n",
    "                pass\n",
    "    return isPrimeNumber, n\n",
    "\n",
    "isPrime, number = checkingPrimeNumber(inputPositiveInteger())\n",
    "if isPrime is True:\n",
    "    print(f\"{number} là số nguyên tố\")\n",
    "else:\n",
    "    print(f\"{number} không phải là số nguyên tố\")"
   ]
  },
  {
   "cell_type": "code",
   "execution_count": 11,
   "id": "254df7bc",
   "metadata": {},
   "outputs": [
    {
     "name": "stdout",
     "output_type": "stream",
     "text": [
      "Bạn đã nhập số: 9\n",
      "Giai thừa: 362880\n"
     ]
    }
   ],
   "source": [
    "# Bài tập 2: Viết một hàm tinh_giai_thua(n) nhận vào một số nguyên dương n và tính giai thừa của n (n!)\n",
    "def checkingInput():\n",
    "    while True:\n",
    "        try:\n",
    "            n = int(input(\"Nhập một số: \"))\n",
    "            if n >= 0:\n",
    "                print(f\"Bạn đã nhập số: {n}\")\n",
    "                break\n",
    "            else:\n",
    "                print(\"Vui lòng nhập một số lớn hơn hoặc bằng 0.\")\n",
    "        except ValueError:\n",
    "            print(\"Đầu vào không hợp lệ. Vui lòng nhập lại.\")\n",
    "    return n\n",
    "\n",
    "def calculateFactorial(n):\n",
    "    factorial = 1    \n",
    "    if n == 0 or n == 1:\n",
    "        pass\n",
    "    else:\n",
    "        for i in range(1, n + 1):\n",
    "            factorial *= i\n",
    "    return factorial\n",
    "\n",
    "print(f\"Giai thừa: {calculateFactorial(checkingInput())}\")"
   ]
  },
  {
   "cell_type": "code",
   "execution_count": 12,
   "id": "e3862c04",
   "metadata": {},
   "outputs": [
    {
     "name": "stdout",
     "output_type": "stream",
     "text": [
      "Bạn đã nhập số nguyên dương: 126578\n",
      "Sum: 29\n"
     ]
    }
   ],
   "source": [
    "# Bài tập 3: Viết một hàm tinh_tong(n) nhận vào một số nguyên dương n và tính tổng các chữ số của n.\n",
    "# Ví dụ: n = 123, thì hiển thị kết quả là 6.\n",
    "def inputPositiveInteger():\n",
    "    while True:\n",
    "        try:\n",
    "            n = int(input(\"Nhập một số nguyên dương: \"))\n",
    "            if n > 0:\n",
    "                print(f\"Bạn đã nhập số nguyên dương: {n}\")\n",
    "                break\n",
    "            else:\n",
    "                print(\"Vui lòng nhập một số lớn hơn 0.\")\n",
    "        except ValueError:\n",
    "            print(\"Đầu vào không hợp lệ. Vui lòng nhập một số nguyên.\")\n",
    "    return n\n",
    "\n",
    "def sumIntergerNumber(n):\n",
    "    n1 = str(n)\n",
    "    sum = 0\n",
    "    for index in n1:\n",
    "        sum += int(index)\n",
    "    return sum\n",
    "\n",
    "print(f\"Sum: {sumIntergerNumber(inputPositiveInteger())}\")"
   ]
  },
  {
   "cell_type": "code",
   "execution_count": 14,
   "id": "f25665fa",
   "metadata": {},
   "outputs": [
    {
     "name": "stdout",
     "output_type": "stream",
     "text": [
      "Enter item 0: 1\n",
      "Enter item 1: 2\n",
      "Enter item 2: 3\n",
      "Enter item 3: 4\n",
      "Enter item 4: 5\n",
      "List data: [1, 2, 3, 4, 5]\n",
      "Avg: 3.0\n"
     ]
    }
   ],
   "source": [
    "# Bài tập 4: Viết một hàm tinh_trung_binh(data) nhận vào một danh sách số và tính trung bình cộng của các số trong danh sách đó.\n",
    "# Sử dụng vòng lặp để lặp qua từng số trong danh sách và tính tổng các số\n",
    "def inputPositiveInteger(i):    \n",
    "    while True:\n",
    "        try:\n",
    "            n = int(input(\"Nhập một số: \"))\n",
    "            print(f\"Enter item {i}: {n}\")\n",
    "            break\n",
    "        except ValueError:\n",
    "            print(\"Đầu vào không hợp lệ. Vui lòng nhập một số nguyên.\")\n",
    "    return n\n",
    "\n",
    "def inputListData(n):\n",
    "    lstNumber = []\n",
    "    for i in range(0, n):\n",
    "        lstNumber.append(inputPositiveInteger(i))\n",
    "    return lstNumber\n",
    "\n",
    "def average(lst):\n",
    "    avg = 0\n",
    "    sum = 0\n",
    "    print(f\"List data: {lst}\")\n",
    "    for item in lst:\n",
    "        sum += item\n",
    "    avg = sum / len(lst)\n",
    "    return avg\n",
    "\n",
    "print(f\"Avg: {average(inputListData(5))}\")"
   ]
  },
  {
   "cell_type": "code",
   "execution_count": 21,
   "id": "5f0dad56",
   "metadata": {},
   "outputs": [
    {
     "name": "stdout",
     "output_type": "stream",
     "text": [
      "List data: [1, 2, 3, 4, 4, 5, 5, 5, 5, 5, 6, 6, 6, 6, 6, 6, 6, 'xxxx', 'xx', 'xx', 'xx']\n",
      "List data none duplicate: [1, 2, 3, 4, 5, 6, 'xxxx', 'xx']\n",
      "Phần tử 1 xuất hiện: 1\n",
      "Phần tử 2 xuất hiện: 1\n",
      "Phần tử 3 xuất hiện: 1\n",
      "Phần tử 4 xuất hiện: 2\n",
      "Phần tử 5 xuất hiện: 5\n",
      "Phần tử 6 xuất hiện: 7\n",
      "Phần tử xxxx xuất hiện: 1\n",
      "Phần tử xx xuất hiện: 3\n",
      "None\n"
     ]
    }
   ],
   "source": [
    "# Viết một hàm dem_so_lan_xuat_hien(data) nhận vào một danh sách \n",
    "# và đếm số lần xuất hiện của mỗi phần tử trong danh sách đó.\n",
    "def inputListData(n):\n",
    "    mixed_list = []\n",
    "    for i in range(0, n):\n",
    "        value = input(f\"Nhập phần tử thứ {i}: \")\n",
    "        # Kiểm tra nếu giá trị là số, ép kiểu sang int hoặc float\n",
    "        if value.isdigit():\n",
    "            mixed_list.append(int(value))  # Ép kiểu số nguyên\n",
    "        elif value.replace('.', '', 1).isdigit() and value.count('.') < 2:\n",
    "            mixed_list.append(float(value))  # Ép kiểu số thực\n",
    "        else:\n",
    "            mixed_list.append(value)  # Thêm chuỗi vào danh sách\n",
    "    return mixed_list\n",
    "    \n",
    "def checkingDuplicate(lst):\n",
    "    listNoneDuplicate = []\n",
    "    for i in range(0, len(lst)):\n",
    "        if lst[i] in listNoneDuplicate:\n",
    "            pass\n",
    "        else:\n",
    "            listNoneDuplicate.append(lst[i])\n",
    "    return listNoneDuplicate\n",
    "\n",
    "def countNumberAppear(lst):\n",
    "    count = 0\n",
    "    newListNoneDuplicate = checkingDuplicate(lst)\n",
    "    print(f\"List data: {lst}\")\n",
    "    print(f\"List data none duplicate: {newListNoneDuplicate}\")\n",
    "    for i in range(0, len(newListNoneDuplicate)):\n",
    "        for index in range(0, len(lst)):\n",
    "            if newListNoneDuplicate[i] == lst[index]:\n",
    "                count += 1\n",
    "            else:\n",
    "                pass        \n",
    "        print(f\"Phần tử {newListNoneDuplicate[i]} xuất hiện: {count}\")\n",
    "        count = 0 # Reset count\n",
    "\n",
    "# Nhập số lượng phần tử\n",
    "n = int(input(\"Enter the number of elements in the list: \"))\n",
    "print(countNumberAppear(inputListData(n)))"
   ]
  }
 ],
 "metadata": {
  "kernelspec": {
   "display_name": "Python 3",
   "language": "python",
   "name": "python3"
  },
  "language_info": {
   "codemirror_mode": {
    "name": "ipython",
    "version": 3
   },
   "file_extension": ".py",
   "mimetype": "text/x-python",
   "name": "python",
   "nbconvert_exporter": "python",
   "pygments_lexer": "ipython3",
   "version": "3.13.2"
  }
 },
 "nbformat": 4,
 "nbformat_minor": 5
}
