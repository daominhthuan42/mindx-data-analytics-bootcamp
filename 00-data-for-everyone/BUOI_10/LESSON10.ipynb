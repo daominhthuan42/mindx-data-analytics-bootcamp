{
  "cells": [
    {
      "cell_type": "markdown",
      "metadata": {
        "id": "7Yw2IyP9QB-j"
      },
      "source": [
        "# <center> <b> BUỔI 02 : GIỚI THIỆU LOOP TRONG PYTHON"
      ]
    },
    {
      "cell_type": "markdown",
      "metadata": {
        "id": "4F0uSS0UM6Ox"
      },
      "source": [
        "### <b> 1. Tìm hiểu về range() , len()"
      ]
    },
    {
      "cell_type": "code",
      "execution_count": null,
      "metadata": {
        "id": "iNjGv7Jho3bX"
      },
      "outputs": [],
      "source": [
        "# 1.1 Hàm range() trả về một đối tượng, thường được sử dụng để tạo ra một chuỗi số nguyên liên tiếp.\n",
        "\n",
        "# Cú pháp:\n",
        "# range(start, stop, step). Trong đó:\n",
        "# start: số bắt đầu, mặc định là 0.\n",
        "# Stop: số kết thúc.\n",
        "# Step: bước nhảy, mặc định là 1."
      ]
    },
    {
      "cell_type": "code",
      "execution_count": null,
      "metadata": {
        "id": "ZKZqf5yhOPxY"
      },
      "outputs": [],
      "source": [
        "# Các lưu ý đối với hàm range()\n",
        "# Lưu ý 1 : range() tạo ra một đối tượng \"range\" trong python.\n",
        "# Nếu muốn hiện thị các giá trị ta có thể dùng list() hoặc for.\n",
        "# Ví dụ 1 : range(start, stop, step) # stop -1\n",
        "a = range(0,6,1) # Tạo ra một chuỗi số từ 0 đến 5 (stop - 1)\n",
        "# a biến : = gán giá trị\n",
        "# 0 : Start\n",
        "# 6 : Stop\n",
        "# 1 : Step\n",
        "print(a)\n",
        "print(list(a))"
      ]
    },
    {
      "cell_type": "code",
      "execution_count": null,
      "metadata": {
        "id": "bieVkt0eO9CR"
      },
      "outputs": [],
      "source": [
        "# Lưu ý 2 : Trong 3 tham số truyền vào range() thì:\n",
        "# start : (tùy chọn): Giá trị bắt đầu của chuỗi số nguyên. Nếu không được chỉ định, mặc định là 0.\n",
        "# stop (bắt buộc): Giá trị kết thúc của chuỗi số nguyên.\n",
        "# Chuỗi sẽ kết thúc trước giá trị này (stop - 1)\n",
        "# step (tùy chọn): Khoảng cách giữa các giá trị trong chuỗi số nguyên.\n",
        "# Nếu không được chỉ định, mặc định là 1.\n",
        "\n",
        "print(list(range(1,6,3))) # Tạo ra một chuỗi số từ ?"
      ]
    },
    {
      "cell_type": "code",
      "execution_count": null,
      "metadata": {
        "id": "WpfBTMOIQfp0"
      },
      "outputs": [],
      "source": [
        "# 1.2 Hàm len() trả về số lượng phần tử trong một đối tượng.\n",
        "# Ví dụ : Nếu đối tượng là list, range thì hàm len() trả về số lượng phần tử của list.\n",
        "# Nếu đối tượng là một chuỗi các ký tự, thì hàm len() sẽ trả về số lượng ký tự trong chuỗi.\n",
        "#\n",
        "print(len('hello')) # Nếu đối tượng là một chuỗi các ký tự, thì hàm len() sẽ trả về số lượng ký tự trong chuỗi.\n",
        "\n",
        "print(len(list(range(0,10,1))))  # Trả về tổng số lượng các phần tử trong 1 danh sách.\n",
        "\n",
        "print(len(range(0,3,1)))"
      ]
    },
    {
      "cell_type": "markdown",
      "metadata": {
        "id": "YWlX7lsRXxvZ"
      },
      "source": [
        "### <b> 2. Vòng lặp for trong python"
      ]
    },
    {
      "cell_type": "markdown",
      "metadata": {
        "id": "yc-GfMWFPbuB"
      },
      "source": [
        "#### **2.1 KIẾN THỨC VÀ VÍ DỤ TRONG SLIDE** 📔"
      ]
    },
    {
      "cell_type": "code",
      "execution_count": null,
      "metadata": {
        "id": "FPF3aFydPqZb"
      },
      "outputs": [],
      "source": [
        "# Ví dụ 1 :\n",
        "\n",
        "lst_customer = [\"Minh\", \"Khánh\", \"Hoàng\", \"Giang\"]"
      ]
    },
    {
      "cell_type": "code",
      "execution_count": null,
      "metadata": {
        "id": "RFfcotxZQDj2"
      },
      "outputs": [],
      "source": [
        "# Ví dụ 2 :\n",
        "for i in range(5): # 0,1,2,3,4\n",
        "  print(i)"
      ]
    },
    {
      "cell_type": "code",
      "execution_count": null,
      "metadata": {
        "id": "2nLBW5ceQL9E"
      },
      "outputs": [],
      "source": [
        "# Ví dụ 3:\n",
        "for i in 'abcxyz':\n",
        "  print(i)"
      ]
    },
    {
      "cell_type": "markdown",
      "metadata": {
        "id": "K14sIdUnQVjo"
      },
      "source": [
        "#### **2.2 THỜI GIAN LÀM BÀI TẬP TRONG SLIDE**  ⏲"
      ]
    },
    {
      "cell_type": "code",
      "execution_count": null,
      "metadata": {
        "id": "BTyHARWeQsHH"
      },
      "outputs": [],
      "source": [
        "# 1 / Thực hành in ra màn hình danh sách các số từ 1 - 20 : for\n",
        "# 2 / Thực hành in ra màn hình danh sách các số chẵn trong phạm vi từ 1 - 20\n",
        "\n",
        "# for bienlap in range(....):\n",
        "#   print(bienlap)\n",
        "# range + for"
      ]
    },
    {
      "cell_type": "code",
      "execution_count": 3,
      "metadata": {},
      "outputs": [
        {
          "name": "stdout",
          "output_type": "stream",
          "text": [
            "1 2 3 4 5 6 7 8 9 10 11 12 13 14 15 16 17 18 19 "
          ]
        }
      ],
      "source": [
        "# 1 / Thực hành in ra màn hình danh sách các số từ 1 - 20 : for\n",
        "for i in range(1, 20):\n",
        "    print(i, end = \" \")"
      ]
    },
    {
      "cell_type": "code",
      "execution_count": null,
      "metadata": {},
      "outputs": [
        {
          "name": "stdout",
          "output_type": "stream",
          "text": [
            "2 4 6 8 10 12 14 16 18 "
          ]
        }
      ],
      "source": [
        "# 2 / Thực hành in ra màn hình danh sách các số chẵn trong phạm vi từ 1 - 20\n",
        "for i in range(1, 20):\n",
        "    if i % 2 == 0:\n",
        "        print(i, end = \" \")\n",
        "    else:\n",
        "        pass"
      ]
    },
    {
      "cell_type": "code",
      "execution_count": null,
      "metadata": {},
      "outputs": [],
      "source": [
        "print(*[i for i in range(1, 21) if i % 2 == 0])"
      ]
    },
    {
      "cell_type": "markdown",
      "metadata": {
        "id": "DTQgGhacRzCy"
      },
      "source": [
        "#### **2.3 NÂNG CAO VỀ VÒNG LẶP FOR** 💎"
      ]
    },
    {
      "cell_type": "code",
      "execution_count": 8,
      "metadata": {
        "id": "x4fAIv7H5mxO"
      },
      "outputs": [
        {
          "name": "stdout",
          "output_type": "stream",
          "text": [
            "Giá trị tổng của danh sách là :  6\n"
          ]
        }
      ],
      "source": [
        "# Ví dụ 2.3.1 / Học viên suy nghĩ đoạn code dưới đây và\n",
        "# trả lời đáp án tổng = bao nhiêu và cách chạy\n",
        "my_list = [1,3,2]\n",
        "tong = 0\n",
        "for i in my_list:\n",
        "   tong = tong + i\n",
        "\n",
        "print('Giá trị tổng của danh sách là : ', tong)\n",
        "\n",
        "\n",
        "# Nhắc học viên về hàm gán +="
      ]
    },
    {
      "cell_type": "code",
      "execution_count": null,
      "metadata": {
        "id": "40SAXvnj5ZTT"
      },
      "outputs": [
        {
          "name": "stdout",
          "output_type": "stream",
          "text": [
            "5\n",
            "13\n"
          ]
        }
      ],
      "source": [
        "# Ví dụ 2.3.2 / Tính tổng của danh sách dưới đây với điều kiện index là số chẵn.\n",
        "\n",
        "# GIÁ TRỊ CỦA PHẦN TỬ ĐANG GIỮ INDEX CHẴN NẾU XÉT TỪ TRÁI SANG PHẢI\n",
        "\n",
        "my_list = [1,3,5,6,7]\n",
        "tong = 0\n",
        "for i in range(0, 6):\n",
        "    if i % 2 == 0:\n",
        "        tong += my_list[i]\n",
        "print(tong)\n"
      ]
    },
    {
      "cell_type": "code",
      "execution_count": null,
      "metadata": {
        "id": "wtiz9Up2nIns"
      },
      "outputs": [],
      "source": [
        "# Ví dụ 4 : For lồng for\n",
        "Item = ['Bút', 'Thước']\n",
        "Mausac = ['Đen', 'Trắng']\n",
        "for i in Item:\n",
        "  for m in Mausac:\n",
        "    print(i, m)"
      ]
    },
    {
      "cell_type": "code",
      "execution_count": null,
      "metadata": {
        "id": "V2CbYobjnEee"
      },
      "outputs": [],
      "source": [
        "# Ví dụ 5 / For lồng for :\n",
        "\n",
        "lst = [ [1, 2, 3] , [4, 5, 6], [7, 8, 9]]\n",
        "total = 0\n",
        "for i in lst:\n",
        "    for num in i:\n",
        "        total += num\n",
        "print(\"Tổng các phần tử trong list là:\", total)"
      ]
    },
    {
      "cell_type": "markdown",
      "metadata": {
        "id": "q2rxRO5B7RWg"
      },
      "source": [
        "### **3. Vòng lặp while**\n"
      ]
    },
    {
      "cell_type": "markdown",
      "metadata": {
        "id": "tSf9Xo6XUOU6"
      },
      "source": [
        "#### **3.1 KIẾN THỨC VÀ VÍ DỤ TRONG SLIDE** 📔"
      ]
    },
    {
      "cell_type": "code",
      "execution_count": null,
      "metadata": {
        "id": "_g3AF69VuC1t"
      },
      "outputs": [],
      "source": [
        "# Hãy in của các số từ 0 đến 4 : Sử dụng for và while\n",
        "# Cách 1 Dùng for\n",
        "\n",
        "# Cách 2 Dùng Why"
      ]
    },
    {
      "cell_type": "markdown",
      "metadata": {
        "id": "u0iNWgw0VWRG"
      },
      "source": [
        "#### **3.2 THỜI GIAN LÀM BÀI TẬP TRONG SLIDE**  ⏲"
      ]
    },
    {
      "cell_type": "code",
      "execution_count": null,
      "metadata": {
        "id": "SUsoamVFUp-R"
      },
      "outputs": [],
      "source": [
        "#Thực hành in ra màn hình danh sách các số từ 1 - 20\n",
        "#Thực hành in ra màn hình danh sách các số chẵn trong phạm vi từ 1 - 20\n",
        "# range(2,21,2)"
      ]
    },
    {
      "cell_type": "markdown",
      "metadata": {
        "id": "y4Df01aOi6c3"
      },
      "source": [
        "#### **3.3 TÌM HIỂU VỀ BREAK VÀ CONTINUE**"
      ]
    },
    {
      "cell_type": "code",
      "execution_count": null,
      "metadata": {
        "id": "lNKbFJ3YY-v7"
      },
      "outputs": [],
      "source": [
        "# Sự khác nhau giữa Continue trong for và while"
      ]
    },
    {
      "cell_type": "code",
      "execution_count": 16,
      "metadata": {
        "id": "tcKbVbQNj0BP"
      },
      "outputs": [
        {
          "name": "stdout",
          "output_type": "stream",
          "text": [
            "6\n"
          ]
        }
      ],
      "source": [
        "# Thực hành giải quyết bài toán đã nêu ra ở trên:\n",
        "# In ra số chẵn đầu tiên trong phạm vi từ 2 - 10, bỏ qua # số 2 và 4.\n",
        "# OUTPUT : 6\n",
        "for i in range(2, 11, 2):\n",
        "    if i == 2 or i == 4:\n",
        "        continue\n",
        "    print(i)\n",
        "    break"
      ]
    },
    {
      "cell_type": "code",
      "execution_count": null,
      "metadata": {
        "id": "JQ3izcD_k0Xu"
      },
      "outputs": [
        {
          "name": "stdout",
          "output_type": "stream",
          "text": [
            "[4, 6, 8]\n",
            "[3, 5, 7, 9]\n"
          ]
        }
      ],
      "source": [
        "# THỰC HÀNH xây dựng một chương trình cho người dùng nhập vào 2 số n1, n2,\n",
        "# sau đó in ra màn hình 2 danh sách chứa số chẵn , số lẻ nằm \"giữa\" 2 số n1, n2 vừa nhập.\n",
        "# Sau khi hoàn thành, bạn hãy thử kiểm tra kết quả với việc nhập n1 = 2, n2 = 10\n",
        "n1 = int(input(\"Nhập n1: \"))\n",
        "n2 = int(input(\"Nhập n2: \"))\n",
        "listOdd = []\n",
        "listEvent = []\n",
        "for i in range(n1 + 1, n2):\n",
        "    if i % 2 == 0:\n",
        "        listOdd.append(i)\n",
        "    else:\n",
        "        listEvent.append(i)\n",
        "print(listOdd)\n",
        "print(listEvent)"
      ]
    },
    {
      "cell_type": "markdown",
      "metadata": {
        "id": "yZEIMddsE0qw"
      },
      "source": [
        "### 4 / **Hàm(function)**"
      ]
    },
    {
      "cell_type": "code",
      "execution_count": null,
      "metadata": {
        "id": "dXst5_GKFAUz"
      },
      "outputs": [],
      "source": [
        "# Định nghĩa : là một khối các câu lệnh thực hiện một nhiệm vụ cụ thể.\n",
        "#  Nó được sinh ra nhằm giúp chúng ta giảm bớt thời gian lặp lại\n",
        "# việc viết khối các câu lệnh được sử dụng nhiều lần\n",
        "# Ví dụ về hàm\n",
        "\n",
        "# tính tổng 2 số bất kì :\n",
        "\n",
        "def tinhtong(x,y):\n",
        "  tong  = x + y\n",
        "  return tong\n",
        "tinhtong(28,28)"
      ]
    },
    {
      "cell_type": "code",
      "execution_count": null,
      "metadata": {
        "id": "aofURxISFXQL"
      },
      "outputs": [],
      "source": [
        "# Sự khác nhau giữa return và print trong function:\n",
        "# print : chỉ là hiện thị kết quả ra màn hình.\n",
        "# return : được sử dụng để trả về một giá trị từ hàm"
      ]
    },
    {
      "cell_type": "markdown",
      "metadata": {
        "id": "Qvo-zpF8HrCZ"
      },
      "source": [
        "### **5 / BÀI TẬP NÂNG CAO**  🎩"
      ]
    },
    {
      "cell_type": "markdown",
      "metadata": {
        "id": "WVvy1TkuxnFm"
      },
      "source": [
        "#### **5.1 Giới thiệu về random.randint**"
      ]
    },
    {
      "cell_type": "code",
      "execution_count": null,
      "metadata": {
        "id": "4SmxuXFiH3-q"
      },
      "outputs": [],
      "source": [
        "# Hướng dẫn lớp về random\n",
        "# random là một Module trong Python, được sử dụng để sinh các giá trị ngẫu nhiên.\n",
        "# Cú pháp phổ biến trong random.\n",
        "# random.randint(a, b):\n",
        "# Trả về một số nguyên ngẫu nhiên trong khoảng từ a đến b (bao gồm cả a và b).\n",
        "import random"
      ]
    },
    {
      "cell_type": "markdown",
      "metadata": {
        "id": "DJpEOOudJQK_"
      },
      "source": [
        "#### **5.2 Ví dụ thêm về while trong python**"
      ]
    },
    {
      "cell_type": "code",
      "execution_count": null,
      "metadata": {
        "id": "_pRj5N5PsooM"
      },
      "outputs": [],
      "source": [
        "number = 0\n",
        "while True:\n",
        "        number = int(input(\"Nhập vào một số nguyên dương từ 1 đến 10: \"))\n",
        "        if number >= 1 and number <= 10:\n",
        "            break\n",
        "        else:\n",
        "            print(\"Số bạn nhập không hợp lệ, vui lòng nhập lại.\")\n",
        "print(\"Bạn đã nhập vào số\", number)"
      ]
    },
    {
      "cell_type": "code",
      "execution_count": null,
      "metadata": {
        "id": "DYS7ZfuJUQCp"
      },
      "outputs": [],
      "source": [
        "number = 0\n",
        "while True:\n",
        "    try:\n",
        "        number = int(input(\"Nhập vào một số nguyên dương từ 1 đến 10: \"))\n",
        "        if number >= 1 and number <= 10:\n",
        "            break\n",
        "        else:\n",
        "            print(\"Số bạn nhập không hợp lệ, vui lòng nhập lại.\")\n",
        "    except:\n",
        "        print(\"Bạn đã nhập không phải là một số nguyên, vui lòng nhập lại.\")\n",
        "print(\"Bạn đã nhập vào số\", number)"
      ]
    },
    {
      "cell_type": "code",
      "execution_count": null,
      "metadata": {
        "id": "d_WU8a_NXuyd"
      },
      "outputs": [],
      "source": [
        "# Mật khẩu đúng\n",
        "correct_password = \"my_password\"\n",
        "\n",
        "# Yêu cầu người dùng nhập mật khẩu\n",
        "while True:\n",
        "    user_password = input(\"Nhập mật khẩu: \")\n",
        "\n",
        "    # Kiểm tra xem mật khẩu nhập vào có trùng với mật khẩu đúng hay không\n",
        "    if user_password == correct_password:\n",
        "        print(\"Đăng nhập thành công!\")\n",
        "        break  # Kết thúc vòng lặp nếu mật khẩu đúng\n",
        "    else:\n",
        "        print(\"Mật khẩu không đúng. Vui lòng thử lại.\")"
      ]
    },
    {
      "cell_type": "markdown",
      "metadata": {},
      "source": [
        "### **6 / BÀI TẬP THỰC HÀNH** "
      ]
    },
    {
      "cell_type": "code",
      "execution_count": 4,
      "metadata": {},
      "outputs": [
        {
          "name": "stdout",
          "output_type": "stream",
          "text": [
            "Sum: 45\n"
          ]
        }
      ],
      "source": [
        "# Viết một hàm tinh_tong(n) nhận vào một số nguyên dương n \n",
        "# sau đó tính tổng các số từ 1 đến n.\n",
        "def sum(n):\n",
        "    sumFrom1ton = 0\n",
        "    for i in range(0, n + 1):\n",
        "        sumFrom1ton += i\n",
        "    return sumFrom1ton\n",
        "print(f\"Sum: {sum(9)}\")\n"
      ]
    },
    {
      "cell_type": "code",
      "execution_count": 5,
      "metadata": {},
      "outputs": [
        {
          "name": "stdout",
          "output_type": "stream",
          "text": [
            "Sum: 20\n"
          ]
        }
      ],
      "source": [
        "# Viết một hàm tinh_tong_chan(n) nhận vào một số nguyên dương n \n",
        "# sau đó tính tổng các số chẵn từ 1 đến n.\n",
        "def sumEvent(n):\n",
        "    sumEventFrom1ton = 0\n",
        "    for i in range(0, n + 1):\n",
        "        if i % 2 == 0:\n",
        "            sumEventFrom1ton += i\n",
        "    return sumEventFrom1ton\n",
        "print(f\"Sum: {sumEvent(9)}\")"
      ]
    },
    {
      "cell_type": "code",
      "execution_count": null,
      "metadata": {},
      "outputs": [
        {
          "name": "stdout",
          "output_type": "stream",
          "text": [
            "List: [2, 3, 4, 12, 7, 8, 56, 0, 2, 9]\n",
            "Max value: 56\n"
          ]
        }
      ],
      "source": [
        "# Viết một hàm tim_so_lon_nhat(danh_sach) nhận vào một danh sách chứa 10\n",
        "# số được nhập vào từ bàn phím. Sau đó trả về số lớn nhất trong danh sách\n",
        "def inputListData(n):\n",
        "    lstNumber = []\n",
        "    for i in range(0, n):\n",
        "        item = int(input(f\"Enter item: {i} \"))\n",
        "        lstNumber.append(item)\n",
        "    return lstNumber\n",
        "\n",
        "def findMaxNumber(lst):\n",
        "    print(f\"List: {lst}\")\n",
        "    # Giả sử phần tử đầu tiên là lớn nhất\n",
        "    max_value = lst[0]\n",
        "    for num in lst:\n",
        "        if num > max_value:\n",
        "            max_value = num\n",
        "    return max_value\n",
        "\n",
        "print(f\"Max value: {findMaxNumber(inputListData(10))}\")\n"
      ]
    },
    {
      "cell_type": "code",
      "execution_count": null,
      "metadata": {},
      "outputs": [
        {
          "name": "stdout",
          "output_type": "stream",
          "text": [
            "List: [4, 7, 98, 2, 10, 34, 2, 12, 8, 5]\n",
            "Min value: 2\n"
          ]
        }
      ],
      "source": [
        "# Viết một hàm tim_so_be_nhat(danh_sach) nhận vào một danh sách chứa 10\n",
        "# số được nhập vào từ bàn phím. Sau đó trả về số bé nhất trong danh sách.\n",
        "def inputListData():\n",
        "    lstNumber = []\n",
        "    for i in range(0, 10):\n",
        "        item = int(input(f\"Enter item: {i} \"))\n",
        "        lstNumber.append(item)\n",
        "    return lstNumber\n",
        "\n",
        "def findMinNumber(lst):\n",
        "    print(f\"List: {lst}\")\n",
        "    # Giả sử phần tử đầu tiên là bé nhất\n",
        "    min_value = lst[0]\n",
        "    for num in lst:\n",
        "        if num < min_value:\n",
        "            min_value = num\n",
        "    return min_value\n",
        "\n",
        "print(f\"Min value: {findMinNumber(inputListData())}\")"
      ]
    },
    {
      "cell_type": "code",
      "execution_count": null,
      "metadata": {},
      "outputs": [
        {
          "name": "stdout",
          "output_type": "stream",
          "text": [
            "True\n"
          ]
        }
      ],
      "source": [
        "# Viết một hàm kiem_tra_so_nguyen_to(n) nhận vào một số nguyên dương n và kiểm tra xem n có phải là số nguyên tố hay không \n",
        "def checkingPrimeNumber(n):\n",
        "    isPrimeNumber = True\n",
        "    if n < 1:\n",
        "        isPrimeNumber = False\n",
        "    else:\n",
        "        for i in range(2, int(n ** 0.5) + 1):\n",
        "            if n % i == 0:\n",
        "                isPrimeNumber = False\n",
        "                break\n",
        "            else:\n",
        "                pass\n",
        "    return isPrimeNumber\n",
        "\n",
        "print(checkingPrimeNumber(17))"
      ]
    },
    {
      "cell_type": "code",
      "execution_count": 20,
      "metadata": {},
      "outputs": [
        {
          "name": "stdout",
          "output_type": "stream",
          "text": [
            "5\n"
          ]
        }
      ],
      "source": [
        "# Viết một hàm dem_so_chu_so(n) nhận vào một số nguyên dương n và đếm số chữ số của n\n",
        "def countNumber(n):\n",
        "    \"\"\"\n",
        "    Hàm nhận vào một số nguyên dương n và trả về số chữ số của n.\n",
        "    \"\"\"\n",
        "    if n <= 0:\n",
        "        raise ValueError(\"Số n phải là số nguyên dương.\")\n",
        "    \n",
        "    count = 0\n",
        "    while n > 0:\n",
        "        n //= 10\n",
        "        count += 1\n",
        "    return count\n",
        "\n",
        "# Ví dụ sử dụng\n",
        "print(countNumber(17456))  # Kết quả: 5"
      ]
    }
  ],
  "metadata": {
    "colab": {
      "provenance": []
    },
    "kernelspec": {
      "display_name": "Python 3",
      "name": "python3"
    },
    "language_info": {
      "codemirror_mode": {
        "name": "ipython",
        "version": 3
      },
      "file_extension": ".py",
      "mimetype": "text/x-python",
      "name": "python",
      "nbconvert_exporter": "python",
      "pygments_lexer": "ipython3",
      "version": "3.13.2"
    }
  },
  "nbformat": 4,
  "nbformat_minor": 0
}
