{
  "cells": [
    {
      "cell_type": "markdown",
      "metadata": {},
      "source": [
        "# <center> <b> LECTURE 04 : BÀI TẬP THỰC HÀNH TRÊN LỚP\n"
      ]
    },
    {
      "cell_type": "code",
      "execution_count": 69,
      "metadata": {},
      "outputs": [],
      "source": [
        "import pandas as pd\n",
        "import seaborn as sns\n",
        "import matplotlib.pyplot as plt"
      ]
    },
    {
      "cell_type": "code",
      "execution_count": 70,
      "metadata": {},
      "outputs": [],
      "source": [
        "df1 = pd.read_csv('mexico-real-estate-1.csv')"
      ]
    },
    {
      "cell_type": "markdown",
      "metadata": {},
      "source": [
        "# **Clean file mexico-real-estate-1.csv**"
      ]
    },
    {
      "cell_type": "code",
      "execution_count": 71,
      "metadata": {},
      "outputs": [
        {
          "data": {
            "text/html": [
              "<div>\n",
              "<style scoped>\n",
              "    .dataframe tbody tr th:only-of-type {\n",
              "        vertical-align: middle;\n",
              "    }\n",
              "\n",
              "    .dataframe tbody tr th {\n",
              "        vertical-align: top;\n",
              "    }\n",
              "\n",
              "    .dataframe thead th {\n",
              "        text-align: right;\n",
              "    }\n",
              "</style>\n",
              "<table border=\"1\" class=\"dataframe\">\n",
              "  <thead>\n",
              "    <tr style=\"text-align: right;\">\n",
              "      <th></th>\n",
              "      <th>property_type</th>\n",
              "      <th>state</th>\n",
              "      <th>lat</th>\n",
              "      <th>lon</th>\n",
              "      <th>area_m2</th>\n",
              "      <th>price_usd</th>\n",
              "    </tr>\n",
              "  </thead>\n",
              "  <tbody>\n",
              "    <tr>\n",
              "      <th>0</th>\n",
              "      <td>house</td>\n",
              "      <td>Estado de México</td>\n",
              "      <td>19.560181</td>\n",
              "      <td>-99.233528</td>\n",
              "      <td>150.0</td>\n",
              "      <td>$67,965.56</td>\n",
              "    </tr>\n",
              "    <tr>\n",
              "      <th>1</th>\n",
              "      <td>house</td>\n",
              "      <td>Nuevo León</td>\n",
              "      <td>25.688436</td>\n",
              "      <td>-100.198807</td>\n",
              "      <td>186.0</td>\n",
              "      <td>$63,223.78</td>\n",
              "    </tr>\n",
              "    <tr>\n",
              "      <th>2</th>\n",
              "      <td>apartment</td>\n",
              "      <td>Guerrero</td>\n",
              "      <td>16.767704</td>\n",
              "      <td>-99.764383</td>\n",
              "      <td>82.0</td>\n",
              "      <td>$84,298.37</td>\n",
              "    </tr>\n",
              "    <tr>\n",
              "      <th>3</th>\n",
              "      <td>apartment</td>\n",
              "      <td>Guerrero</td>\n",
              "      <td>16.829782</td>\n",
              "      <td>-99.911012</td>\n",
              "      <td>150.0</td>\n",
              "      <td>$94,308.80</td>\n",
              "    </tr>\n",
              "    <tr>\n",
              "      <th>4</th>\n",
              "      <td>house</td>\n",
              "      <td>Veracruz de Ignacio de la Llave</td>\n",
              "      <td>NaN</td>\n",
              "      <td>NaN</td>\n",
              "      <td>175.0</td>\n",
              "      <td>$94,835.67</td>\n",
              "    </tr>\n",
              "  </tbody>\n",
              "</table>\n",
              "</div>"
            ],
            "text/plain": [
              "  property_type                            state        lat         lon  \\\n",
              "0         house                 Estado de México  19.560181  -99.233528   \n",
              "1         house                       Nuevo León  25.688436 -100.198807   \n",
              "2     apartment                         Guerrero  16.767704  -99.764383   \n",
              "3     apartment                         Guerrero  16.829782  -99.911012   \n",
              "4         house  Veracruz de Ignacio de la Llave        NaN         NaN   \n",
              "\n",
              "   area_m2   price_usd  \n",
              "0    150.0  $67,965.56  \n",
              "1    186.0  $63,223.78  \n",
              "2     82.0  $84,298.37  \n",
              "3    150.0  $94,308.80  \n",
              "4    175.0  $94,835.67  "
            ]
          },
          "execution_count": 71,
          "metadata": {},
          "output_type": "execute_result"
        }
      ],
      "source": [
        "# Overview data\n",
        "df1.head()"
      ]
    },
    {
      "cell_type": "code",
      "execution_count": 72,
      "metadata": {},
      "outputs": [
        {
          "data": {
            "text/plain": [
              "property_type      0\n",
              "state              0\n",
              "lat              117\n",
              "lon              117\n",
              "area_m2            0\n",
              "price_usd          0\n",
              "dtype: int64"
            ]
          },
          "execution_count": 72,
          "metadata": {},
          "output_type": "execute_result"
        }
      ],
      "source": [
        "# Check xem mỗi cột có bao dữ liệu bị null\n",
        "df1.isnull().sum()"
      ]
    },
    {
      "cell_type": "code",
      "execution_count": 73,
      "metadata": {},
      "outputs": [],
      "source": [
        "# Xóa dữ liệu bị null\n",
        "df1 = df1.dropna()"
      ]
    },
    {
      "cell_type": "code",
      "execution_count": 74,
      "metadata": {},
      "outputs": [
        {
          "data": {
            "text/plain": [
              "property_type    0\n",
              "state            0\n",
              "lat              0\n",
              "lon              0\n",
              "area_m2          0\n",
              "price_usd        0\n",
              "dtype: int64"
            ]
          },
          "execution_count": 74,
          "metadata": {},
          "output_type": "execute_result"
        }
      ],
      "source": [
        "# Check xem lại mỗi cột có bao dữ liệu bị null\n",
        "df1.isnull().sum()"
      ]
    },
    {
      "cell_type": "code",
      "execution_count": 75,
      "metadata": {},
      "outputs": [
        {
          "data": {
            "text/plain": [
              "np.int64(0)"
            ]
          },
          "execution_count": 75,
          "metadata": {},
          "output_type": "execute_result"
        }
      ],
      "source": [
        "#Check dữ liệu bị trùng lặp\n",
        "df1.duplicated().sum()"
      ]
    },
    {
      "cell_type": "code",
      "execution_count": 76,
      "metadata": {},
      "outputs": [],
      "source": [
        "# Remove những ký $, , và ép kiểu về float cho column price_usd\n",
        "df1['price_usd'] = df1['price_usd'].str.replace(\"$\", \"\")\n",
        "df1['price_usd'] = df1['price_usd'].str.replace(\",\", \"\")\n",
        "df1['price_usd'] = df1['price_usd'].astype(\"float\")"
      ]
    },
    {
      "cell_type": "code",
      "execution_count": 77,
      "metadata": {},
      "outputs": [
        {
          "name": "stdout",
          "output_type": "stream",
          "text": [
            "<class 'pandas.core.frame.DataFrame'>\n",
            "Index: 583 entries, 0 to 699\n",
            "Data columns (total 6 columns):\n",
            " #   Column         Non-Null Count  Dtype  \n",
            "---  ------         --------------  -----  \n",
            " 0   property_type  583 non-null    object \n",
            " 1   state          583 non-null    object \n",
            " 2   lat            583 non-null    float64\n",
            " 3   lon            583 non-null    float64\n",
            " 4   area_m2        583 non-null    float64\n",
            " 5   price_usd      583 non-null    float64\n",
            "dtypes: float64(4), object(2)\n",
            "memory usage: 31.9+ KB\n"
          ]
        }
      ],
      "source": [
        "df1.info()"
      ]
    },
    {
      "cell_type": "code",
      "execution_count": 78,
      "metadata": {},
      "outputs": [
        {
          "data": {
            "text/html": [
              "<div>\n",
              "<style scoped>\n",
              "    .dataframe tbody tr th:only-of-type {\n",
              "        vertical-align: middle;\n",
              "    }\n",
              "\n",
              "    .dataframe tbody tr th {\n",
              "        vertical-align: top;\n",
              "    }\n",
              "\n",
              "    .dataframe thead th {\n",
              "        text-align: right;\n",
              "    }\n",
              "</style>\n",
              "<table border=\"1\" class=\"dataframe\">\n",
              "  <thead>\n",
              "    <tr style=\"text-align: right;\">\n",
              "      <th></th>\n",
              "      <th>property_type</th>\n",
              "      <th>state</th>\n",
              "      <th>lat</th>\n",
              "      <th>lon</th>\n",
              "      <th>area_m2</th>\n",
              "      <th>price_usd</th>\n",
              "    </tr>\n",
              "  </thead>\n",
              "  <tbody>\n",
              "    <tr>\n",
              "      <th>0</th>\n",
              "      <td>house</td>\n",
              "      <td>Estado de México</td>\n",
              "      <td>19.560181</td>\n",
              "      <td>-99.233528</td>\n",
              "      <td>150.0</td>\n",
              "      <td>67965.56</td>\n",
              "    </tr>\n",
              "    <tr>\n",
              "      <th>1</th>\n",
              "      <td>house</td>\n",
              "      <td>Nuevo León</td>\n",
              "      <td>25.688436</td>\n",
              "      <td>-100.198807</td>\n",
              "      <td>186.0</td>\n",
              "      <td>63223.78</td>\n",
              "    </tr>\n",
              "    <tr>\n",
              "      <th>2</th>\n",
              "      <td>apartment</td>\n",
              "      <td>Guerrero</td>\n",
              "      <td>16.767704</td>\n",
              "      <td>-99.764383</td>\n",
              "      <td>82.0</td>\n",
              "      <td>84298.37</td>\n",
              "    </tr>\n",
              "    <tr>\n",
              "      <th>3</th>\n",
              "      <td>apartment</td>\n",
              "      <td>Guerrero</td>\n",
              "      <td>16.829782</td>\n",
              "      <td>-99.911012</td>\n",
              "      <td>150.0</td>\n",
              "      <td>94308.80</td>\n",
              "    </tr>\n",
              "    <tr>\n",
              "      <th>5</th>\n",
              "      <td>house</td>\n",
              "      <td>Yucatán</td>\n",
              "      <td>21.052583</td>\n",
              "      <td>-89.538639</td>\n",
              "      <td>205.0</td>\n",
              "      <td>105191.37</td>\n",
              "    </tr>\n",
              "  </tbody>\n",
              "</table>\n",
              "</div>"
            ],
            "text/plain": [
              "  property_type             state        lat         lon  area_m2  price_usd\n",
              "0         house  Estado de México  19.560181  -99.233528    150.0   67965.56\n",
              "1         house        Nuevo León  25.688436 -100.198807    186.0   63223.78\n",
              "2     apartment          Guerrero  16.767704  -99.764383     82.0   84298.37\n",
              "3     apartment          Guerrero  16.829782  -99.911012    150.0   94308.80\n",
              "5         house           Yucatán  21.052583  -89.538639    205.0  105191.37"
            ]
          },
          "execution_count": 78,
          "metadata": {},
          "output_type": "execute_result"
        }
      ],
      "source": [
        "# Overview data\n",
        "df1.head()"
      ]
    },
    {
      "cell_type": "markdown",
      "metadata": {},
      "source": [
        "# **Clean file mexico-real-estate-2.csv**"
      ]
    },
    {
      "cell_type": "code",
      "execution_count": 79,
      "metadata": {},
      "outputs": [],
      "source": [
        "df2 = pd.read_csv('mexico-real-estate-2.csv')"
      ]
    },
    {
      "cell_type": "code",
      "execution_count": 80,
      "metadata": {},
      "outputs": [
        {
          "data": {
            "text/html": [
              "<div>\n",
              "<style scoped>\n",
              "    .dataframe tbody tr th:only-of-type {\n",
              "        vertical-align: middle;\n",
              "    }\n",
              "\n",
              "    .dataframe tbody tr th {\n",
              "        vertical-align: top;\n",
              "    }\n",
              "\n",
              "    .dataframe thead th {\n",
              "        text-align: right;\n",
              "    }\n",
              "</style>\n",
              "<table border=\"1\" class=\"dataframe\">\n",
              "  <thead>\n",
              "    <tr style=\"text-align: right;\">\n",
              "      <th></th>\n",
              "      <th>property_type</th>\n",
              "      <th>state</th>\n",
              "      <th>lat</th>\n",
              "      <th>lon</th>\n",
              "      <th>area_m2</th>\n",
              "      <th>price_mxn</th>\n",
              "    </tr>\n",
              "  </thead>\n",
              "  <tbody>\n",
              "    <tr>\n",
              "      <th>0</th>\n",
              "      <td>apartment</td>\n",
              "      <td>Nuevo León</td>\n",
              "      <td>25.721081</td>\n",
              "      <td>-100.345581</td>\n",
              "      <td>72.0</td>\n",
              "      <td>1300000.0</td>\n",
              "    </tr>\n",
              "    <tr>\n",
              "      <th>1</th>\n",
              "      <td>apartment</td>\n",
              "      <td>Puebla</td>\n",
              "      <td>NaN</td>\n",
              "      <td>NaN</td>\n",
              "      <td>190.0</td>\n",
              "      <td>2500000.0</td>\n",
              "    </tr>\n",
              "    <tr>\n",
              "      <th>2</th>\n",
              "      <td>house</td>\n",
              "      <td>Morelos</td>\n",
              "      <td>23.634501</td>\n",
              "      <td>-102.552788</td>\n",
              "      <td>360.0</td>\n",
              "      <td>5300000.0</td>\n",
              "    </tr>\n",
              "    <tr>\n",
              "      <th>3</th>\n",
              "      <td>house</td>\n",
              "      <td>Morelos</td>\n",
              "      <td>NaN</td>\n",
              "      <td>NaN</td>\n",
              "      <td>76.0</td>\n",
              "      <td>820000.0</td>\n",
              "    </tr>\n",
              "    <tr>\n",
              "      <th>4</th>\n",
              "      <td>house</td>\n",
              "      <td>Puebla</td>\n",
              "      <td>NaN</td>\n",
              "      <td>NaN</td>\n",
              "      <td>200.0</td>\n",
              "      <td>1100000.0</td>\n",
              "    </tr>\n",
              "  </tbody>\n",
              "</table>\n",
              "</div>"
            ],
            "text/plain": [
              "  property_type       state        lat         lon  area_m2  price_mxn\n",
              "0     apartment  Nuevo León  25.721081 -100.345581     72.0  1300000.0\n",
              "1     apartment      Puebla        NaN         NaN    190.0  2500000.0\n",
              "2         house     Morelos  23.634501 -102.552788    360.0  5300000.0\n",
              "3         house     Morelos        NaN         NaN     76.0   820000.0\n",
              "4         house      Puebla        NaN         NaN    200.0  1100000.0"
            ]
          },
          "execution_count": 80,
          "metadata": {},
          "output_type": "execute_result"
        }
      ],
      "source": [
        "# Overview data\n",
        "df2.head()"
      ]
    },
    {
      "cell_type": "code",
      "execution_count": 81,
      "metadata": {},
      "outputs": [
        {
          "data": {
            "text/plain": [
              "property_type      0\n",
              "state              0\n",
              "lat              129\n",
              "lon              129\n",
              "area_m2            0\n",
              "price_mxn          0\n",
              "dtype: int64"
            ]
          },
          "execution_count": 81,
          "metadata": {},
          "output_type": "execute_result"
        }
      ],
      "source": [
        "# Check xem  mỗi cột có bao dữ liệu bị null\n",
        "df2.isnull().sum()"
      ]
    },
    {
      "cell_type": "code",
      "execution_count": 82,
      "metadata": {},
      "outputs": [],
      "source": [
        "# Xóa dữ liệu bị null\n",
        "df2 = df2.dropna()"
      ]
    },
    {
      "cell_type": "code",
      "execution_count": 83,
      "metadata": {},
      "outputs": [
        {
          "data": {
            "text/plain": [
              "property_type    0\n",
              "state            0\n",
              "lat              0\n",
              "lon              0\n",
              "area_m2          0\n",
              "price_mxn        0\n",
              "dtype: int64"
            ]
          },
          "execution_count": 83,
          "metadata": {},
          "output_type": "execute_result"
        }
      ],
      "source": [
        "# Check xem  mỗi cột có bao dữ liệu bị null\n",
        "df2.isnull().sum()"
      ]
    },
    {
      "cell_type": "code",
      "execution_count": 84,
      "metadata": {},
      "outputs": [
        {
          "data": {
            "text/plain": [
              "np.int64(1)"
            ]
          },
          "execution_count": 84,
          "metadata": {},
          "output_type": "execute_result"
        }
      ],
      "source": [
        "#Check dữ liệu bị trùng lặp\n",
        "df2.duplicated().sum()"
      ]
    },
    {
      "cell_type": "code",
      "execution_count": 85,
      "metadata": {},
      "outputs": [],
      "source": [
        "# Remove data bị trùng lặp\n",
        "df2 = df2.drop_duplicates()"
      ]
    },
    {
      "cell_type": "code",
      "execution_count": 86,
      "metadata": {},
      "outputs": [
        {
          "data": {
            "text/plain": [
              "np.int64(0)"
            ]
          },
          "execution_count": 86,
          "metadata": {},
          "output_type": "execute_result"
        }
      ],
      "source": [
        "#Check lại xem dữ liệu bị trùng lặp\n",
        "df2.duplicated().sum()"
      ]
    },
    {
      "cell_type": "code",
      "execution_count": 87,
      "metadata": {},
      "outputs": [],
      "source": [
        "# Tạo new column price_usd để unify với df1.\n",
        "df2['price_usd'] = df2['price_mxn'] * 0.051"
      ]
    },
    {
      "cell_type": "code",
      "execution_count": 88,
      "metadata": {},
      "outputs": [],
      "source": [
        "# Xóa cột 'price_mxn'\n",
        "df2 = df2.drop(columns=['price_mxn'])"
      ]
    },
    {
      "cell_type": "code",
      "execution_count": 89,
      "metadata": {},
      "outputs": [
        {
          "data": {
            "text/html": [
              "<div>\n",
              "<style scoped>\n",
              "    .dataframe tbody tr th:only-of-type {\n",
              "        vertical-align: middle;\n",
              "    }\n",
              "\n",
              "    .dataframe tbody tr th {\n",
              "        vertical-align: top;\n",
              "    }\n",
              "\n",
              "    .dataframe thead th {\n",
              "        text-align: right;\n",
              "    }\n",
              "</style>\n",
              "<table border=\"1\" class=\"dataframe\">\n",
              "  <thead>\n",
              "    <tr style=\"text-align: right;\">\n",
              "      <th></th>\n",
              "      <th>property_type</th>\n",
              "      <th>state</th>\n",
              "      <th>lat</th>\n",
              "      <th>lon</th>\n",
              "      <th>area_m2</th>\n",
              "      <th>price_usd</th>\n",
              "    </tr>\n",
              "  </thead>\n",
              "  <tbody>\n",
              "    <tr>\n",
              "      <th>0</th>\n",
              "      <td>apartment</td>\n",
              "      <td>Nuevo León</td>\n",
              "      <td>25.721081</td>\n",
              "      <td>-100.345581</td>\n",
              "      <td>72.0</td>\n",
              "      <td>66300.00</td>\n",
              "    </tr>\n",
              "    <tr>\n",
              "      <th>2</th>\n",
              "      <td>house</td>\n",
              "      <td>Morelos</td>\n",
              "      <td>23.634501</td>\n",
              "      <td>-102.552788</td>\n",
              "      <td>360.0</td>\n",
              "      <td>270300.00</td>\n",
              "    </tr>\n",
              "    <tr>\n",
              "      <th>6</th>\n",
              "      <td>apartment</td>\n",
              "      <td>Estado de México</td>\n",
              "      <td>19.272040</td>\n",
              "      <td>-99.572013</td>\n",
              "      <td>85.0</td>\n",
              "      <td>63750.00</td>\n",
              "    </tr>\n",
              "    <tr>\n",
              "      <th>7</th>\n",
              "      <td>house</td>\n",
              "      <td>San Luis Potosí</td>\n",
              "      <td>22.138882</td>\n",
              "      <td>-100.996510</td>\n",
              "      <td>158.0</td>\n",
              "      <td>108120.00</td>\n",
              "    </tr>\n",
              "    <tr>\n",
              "      <th>8</th>\n",
              "      <td>apartment</td>\n",
              "      <td>Distrito Federal</td>\n",
              "      <td>19.394558</td>\n",
              "      <td>-99.129707</td>\n",
              "      <td>65.0</td>\n",
              "      <td>38667.69</td>\n",
              "    </tr>\n",
              "  </tbody>\n",
              "</table>\n",
              "</div>"
            ],
            "text/plain": [
              "  property_type             state        lat         lon  area_m2  price_usd\n",
              "0     apartment        Nuevo León  25.721081 -100.345581     72.0   66300.00\n",
              "2         house           Morelos  23.634501 -102.552788    360.0  270300.00\n",
              "6     apartment  Estado de México  19.272040  -99.572013     85.0   63750.00\n",
              "7         house   San Luis Potosí  22.138882 -100.996510    158.0  108120.00\n",
              "8     apartment  Distrito Federal  19.394558  -99.129707     65.0   38667.69"
            ]
          },
          "execution_count": 89,
          "metadata": {},
          "output_type": "execute_result"
        }
      ],
      "source": [
        "df2.head()"
      ]
    },
    {
      "cell_type": "code",
      "execution_count": 90,
      "metadata": {},
      "outputs": [
        {
          "name": "stdout",
          "output_type": "stream",
          "text": [
            "<class 'pandas.core.frame.DataFrame'>\n",
            "Index: 570 entries, 0 to 699\n",
            "Data columns (total 6 columns):\n",
            " #   Column         Non-Null Count  Dtype  \n",
            "---  ------         --------------  -----  \n",
            " 0   property_type  570 non-null    object \n",
            " 1   state          570 non-null    object \n",
            " 2   lat            570 non-null    float64\n",
            " 3   lon            570 non-null    float64\n",
            " 4   area_m2        570 non-null    float64\n",
            " 5   price_usd      570 non-null    float64\n",
            "dtypes: float64(4), object(2)\n",
            "memory usage: 31.2+ KB\n"
          ]
        }
      ],
      "source": [
        "df2.info()"
      ]
    },
    {
      "cell_type": "markdown",
      "metadata": {},
      "source": [
        "# **Clean file mexico-real-estate-3.csv**"
      ]
    },
    {
      "cell_type": "code",
      "execution_count": 91,
      "metadata": {},
      "outputs": [],
      "source": [
        "df3 = pd.read_csv('mexico-real-estate-3.csv')"
      ]
    },
    {
      "cell_type": "code",
      "execution_count": 92,
      "metadata": {},
      "outputs": [
        {
          "data": {
            "text/plain": [
              "property_type                0\n",
              "place_with_parent_names      0\n",
              "lat-lon                    118\n",
              "area_m2                      0\n",
              "price_usd                    0\n",
              "dtype: int64"
            ]
          },
          "execution_count": 92,
          "metadata": {},
          "output_type": "execute_result"
        }
      ],
      "source": [
        "# Check xem  mỗi cột có bao dữ liệu bị null\n",
        "df3.isnull().sum()"
      ]
    },
    {
      "cell_type": "code",
      "execution_count": 93,
      "metadata": {},
      "outputs": [],
      "source": [
        "# Xóa dữ liệu bị null\n",
        "df3 = df3.dropna()"
      ]
    },
    {
      "cell_type": "code",
      "execution_count": 94,
      "metadata": {},
      "outputs": [
        {
          "data": {
            "text/plain": [
              "property_type              0\n",
              "place_with_parent_names    0\n",
              "lat-lon                    0\n",
              "area_m2                    0\n",
              "price_usd                  0\n",
              "dtype: int64"
            ]
          },
          "execution_count": 94,
          "metadata": {},
          "output_type": "execute_result"
        }
      ],
      "source": [
        "# Check xem lại mỗi cột có bao dữ liệu bị null\n",
        "df3.isnull().sum()"
      ]
    },
    {
      "cell_type": "code",
      "execution_count": 95,
      "metadata": {},
      "outputs": [
        {
          "data": {
            "text/plain": [
              "np.int64(1)"
            ]
          },
          "execution_count": 95,
          "metadata": {},
          "output_type": "execute_result"
        }
      ],
      "source": [
        "#Check dữ liệu bị trùng lặp\n",
        "df3.duplicated().sum()"
      ]
    },
    {
      "cell_type": "code",
      "execution_count": 96,
      "metadata": {},
      "outputs": [],
      "source": [
        "# Remove data bị trùng lặp\n",
        "df3 = df3.drop_duplicates()"
      ]
    },
    {
      "cell_type": "code",
      "execution_count": 97,
      "metadata": {},
      "outputs": [
        {
          "data": {
            "text/plain": [
              "np.int64(0)"
            ]
          },
          "execution_count": 97,
          "metadata": {},
          "output_type": "execute_result"
        }
      ],
      "source": [
        "#Check lại xem dữ liệu bị trùng lặp\n",
        "df3.duplicated().sum()"
      ]
    },
    {
      "cell_type": "code",
      "execution_count": 98,
      "metadata": {},
      "outputs": [
        {
          "data": {
            "text/html": [
              "<div>\n",
              "<style scoped>\n",
              "    .dataframe tbody tr th:only-of-type {\n",
              "        vertical-align: middle;\n",
              "    }\n",
              "\n",
              "    .dataframe tbody tr th {\n",
              "        vertical-align: top;\n",
              "    }\n",
              "\n",
              "    .dataframe thead th {\n",
              "        text-align: right;\n",
              "    }\n",
              "</style>\n",
              "<table border=\"1\" class=\"dataframe\">\n",
              "  <thead>\n",
              "    <tr style=\"text-align: right;\">\n",
              "      <th></th>\n",
              "      <th>property_type</th>\n",
              "      <th>place_with_parent_names</th>\n",
              "      <th>lat-lon</th>\n",
              "      <th>area_m2</th>\n",
              "      <th>price_usd</th>\n",
              "    </tr>\n",
              "  </thead>\n",
              "  <tbody>\n",
              "    <tr>\n",
              "      <th>0</th>\n",
              "      <td>apartment</td>\n",
              "      <td>|México|Distrito Federal|Gustavo A. Madero|Acu...</td>\n",
              "      <td>19.52589,-99.151703</td>\n",
              "      <td>71.0</td>\n",
              "      <td>48550.59</td>\n",
              "    </tr>\n",
              "    <tr>\n",
              "      <th>1</th>\n",
              "      <td>house</td>\n",
              "      <td>|México|Estado de México|Toluca|Metepec|</td>\n",
              "      <td>19.2640539,-99.5727534</td>\n",
              "      <td>233.0</td>\n",
              "      <td>168636.73</td>\n",
              "    </tr>\n",
              "    <tr>\n",
              "      <th>2</th>\n",
              "      <td>house</td>\n",
              "      <td>|México|Estado de México|Toluca|Toluca de Lerd...</td>\n",
              "      <td>19.268629,-99.671722</td>\n",
              "      <td>300.0</td>\n",
              "      <td>86932.69</td>\n",
              "    </tr>\n",
              "    <tr>\n",
              "      <th>4</th>\n",
              "      <td>apartment</td>\n",
              "      <td>|México|Veracruz de Ignacio de la Llave|Veracruz|</td>\n",
              "      <td>19.511938,-96.871956</td>\n",
              "      <td>84.0</td>\n",
              "      <td>68508.67</td>\n",
              "    </tr>\n",
              "    <tr>\n",
              "      <th>5</th>\n",
              "      <td>house</td>\n",
              "      <td>|México|Jalisco|Guadalajara|</td>\n",
              "      <td>20.689157,-103.366728</td>\n",
              "      <td>175.0</td>\n",
              "      <td>102763.00</td>\n",
              "    </tr>\n",
              "  </tbody>\n",
              "</table>\n",
              "</div>"
            ],
            "text/plain": [
              "  property_type                            place_with_parent_names  \\\n",
              "0     apartment  |México|Distrito Federal|Gustavo A. Madero|Acu...   \n",
              "1         house           |México|Estado de México|Toluca|Metepec|   \n",
              "2         house  |México|Estado de México|Toluca|Toluca de Lerd...   \n",
              "4     apartment  |México|Veracruz de Ignacio de la Llave|Veracruz|   \n",
              "5         house                       |México|Jalisco|Guadalajara|   \n",
              "\n",
              "                  lat-lon  area_m2  price_usd  \n",
              "0     19.52589,-99.151703     71.0   48550.59  \n",
              "1  19.2640539,-99.5727534    233.0  168636.73  \n",
              "2    19.268629,-99.671722    300.0   86932.69  \n",
              "4    19.511938,-96.871956     84.0   68508.67  \n",
              "5   20.689157,-103.366728    175.0  102763.00  "
            ]
          },
          "execution_count": 98,
          "metadata": {},
          "output_type": "execute_result"
        }
      ],
      "source": [
        "df3.head()"
      ]
    },
    {
      "cell_type": "code",
      "execution_count": 99,
      "metadata": {},
      "outputs": [],
      "source": [
        "df3['state'] = df3['place_with_parent_names'].str.split(\"|\", expand = True)[2]"
      ]
    },
    {
      "cell_type": "code",
      "execution_count": 100,
      "metadata": {},
      "outputs": [],
      "source": [
        "df3['lat'] = df3['lat-lon'].str.split(\",\", expand= True)[0]"
      ]
    },
    {
      "cell_type": "code",
      "execution_count": 101,
      "metadata": {},
      "outputs": [],
      "source": [
        "df3['lon'] = df3['lat-lon'].str.split(\",\", expand= True)[1]"
      ]
    },
    {
      "cell_type": "code",
      "execution_count": 102,
      "metadata": {},
      "outputs": [],
      "source": [
        "# Xóa cột 'place_with_parent_names', 'lat-lon'\n",
        "df3 = df3.drop(columns=['place_with_parent_names', 'lat-lon'])"
      ]
    },
    {
      "cell_type": "code",
      "execution_count": null,
      "metadata": {},
      "outputs": [],
      "source": [
        "# Sắp xếp thứ tự column để unify với df1 và df2\n",
        "df3 = df3[['property_type', 'state', 'lat','lon','area_m2', 'price_usd']]"
      ]
    },
    {
      "cell_type": "code",
      "execution_count": 108,
      "metadata": {},
      "outputs": [
        {
          "name": "stdout",
          "output_type": "stream",
          "text": [
            "<class 'pandas.core.frame.DataFrame'>\n",
            "Index: 581 entries, 0 to 699\n",
            "Data columns (total 6 columns):\n",
            " #   Column         Non-Null Count  Dtype  \n",
            "---  ------         --------------  -----  \n",
            " 0   property_type  581 non-null    object \n",
            " 1   state          581 non-null    object \n",
            " 2   lat            581 non-null    object \n",
            " 3   lon            581 non-null    object \n",
            " 4   area_m2        581 non-null    float64\n",
            " 5   price_usd      581 non-null    float64\n",
            "dtypes: float64(2), object(4)\n",
            "memory usage: 31.8+ KB\n"
          ]
        }
      ],
      "source": [
        "df3.info()"
      ]
    },
    {
      "cell_type": "markdown",
      "metadata": {},
      "source": [
        "# **Tổng hợp dữ liệu**"
      ]
    },
    {
      "cell_type": "code",
      "execution_count": 113,
      "metadata": {},
      "outputs": [],
      "source": [
        "# Union all 3 df\n",
        "df = pd.concat([df1, df2, df3])"
      ]
    },
    {
      "cell_type": "code",
      "execution_count": 115,
      "metadata": {},
      "outputs": [
        {
          "data": {
            "text/plain": [
              "np.int64(0)"
            ]
          },
          "execution_count": 115,
          "metadata": {},
          "output_type": "execute_result"
        }
      ],
      "source": [
        "#Check lại xem dữ liệu bị trùng lặp\n",
        "df.duplicated().sum()"
      ]
    },
    {
      "cell_type": "code",
      "execution_count": 116,
      "metadata": {},
      "outputs": [
        {
          "name": "stdout",
          "output_type": "stream",
          "text": [
            "<class 'pandas.core.frame.DataFrame'>\n",
            "Index: 1734 entries, 0 to 699\n",
            "Data columns (total 6 columns):\n",
            " #   Column         Non-Null Count  Dtype  \n",
            "---  ------         --------------  -----  \n",
            " 0   property_type  1734 non-null   object \n",
            " 1   state          1734 non-null   object \n",
            " 2   lat            1734 non-null   object \n",
            " 3   lon            1734 non-null   object \n",
            " 4   area_m2        1734 non-null   float64\n",
            " 5   price_usd      1734 non-null   float64\n",
            "dtypes: float64(2), object(4)\n",
            "memory usage: 94.8+ KB\n"
          ]
        }
      ],
      "source": [
        "df.info()"
      ]
    },
    {
      "cell_type": "code",
      "execution_count": 117,
      "metadata": {},
      "outputs": [
        {
          "data": {
            "text/html": [
              "<div>\n",
              "<style scoped>\n",
              "    .dataframe tbody tr th:only-of-type {\n",
              "        vertical-align: middle;\n",
              "    }\n",
              "\n",
              "    .dataframe tbody tr th {\n",
              "        vertical-align: top;\n",
              "    }\n",
              "\n",
              "    .dataframe thead th {\n",
              "        text-align: right;\n",
              "    }\n",
              "</style>\n",
              "<table border=\"1\" class=\"dataframe\">\n",
              "  <thead>\n",
              "    <tr style=\"text-align: right;\">\n",
              "      <th></th>\n",
              "      <th>property_type</th>\n",
              "      <th>state</th>\n",
              "      <th>lat</th>\n",
              "      <th>lon</th>\n",
              "      <th>area_m2</th>\n",
              "      <th>price_usd</th>\n",
              "    </tr>\n",
              "  </thead>\n",
              "  <tbody>\n",
              "    <tr>\n",
              "      <th>0</th>\n",
              "      <td>house</td>\n",
              "      <td>Estado de México</td>\n",
              "      <td>19.560181</td>\n",
              "      <td>-99.233528</td>\n",
              "      <td>150.0</td>\n",
              "      <td>67965.56</td>\n",
              "    </tr>\n",
              "    <tr>\n",
              "      <th>1</th>\n",
              "      <td>house</td>\n",
              "      <td>Nuevo León</td>\n",
              "      <td>25.688436</td>\n",
              "      <td>-100.198807</td>\n",
              "      <td>186.0</td>\n",
              "      <td>63223.78</td>\n",
              "    </tr>\n",
              "    <tr>\n",
              "      <th>2</th>\n",
              "      <td>apartment</td>\n",
              "      <td>Guerrero</td>\n",
              "      <td>16.767704</td>\n",
              "      <td>-99.764383</td>\n",
              "      <td>82.0</td>\n",
              "      <td>84298.37</td>\n",
              "    </tr>\n",
              "    <tr>\n",
              "      <th>3</th>\n",
              "      <td>apartment</td>\n",
              "      <td>Guerrero</td>\n",
              "      <td>16.829782</td>\n",
              "      <td>-99.911012</td>\n",
              "      <td>150.0</td>\n",
              "      <td>94308.80</td>\n",
              "    </tr>\n",
              "    <tr>\n",
              "      <th>5</th>\n",
              "      <td>house</td>\n",
              "      <td>Yucatán</td>\n",
              "      <td>21.052583</td>\n",
              "      <td>-89.538639</td>\n",
              "      <td>205.0</td>\n",
              "      <td>105191.37</td>\n",
              "    </tr>\n",
              "  </tbody>\n",
              "</table>\n",
              "</div>"
            ],
            "text/plain": [
              "  property_type             state        lat         lon  area_m2  price_usd\n",
              "0         house  Estado de México  19.560181  -99.233528    150.0   67965.56\n",
              "1         house        Nuevo León  25.688436 -100.198807    186.0   63223.78\n",
              "2     apartment          Guerrero  16.767704  -99.764383     82.0   84298.37\n",
              "3     apartment          Guerrero  16.829782  -99.911012    150.0   94308.80\n",
              "5         house           Yucatán  21.052583  -89.538639    205.0  105191.37"
            ]
          },
          "execution_count": 117,
          "metadata": {},
          "output_type": "execute_result"
        }
      ],
      "source": [
        "df.head()"
      ]
    },
    {
      "cell_type": "code",
      "execution_count": 118,
      "metadata": {},
      "outputs": [],
      "source": [
        "df.to_csv('file_final.csv')"
      ]
    }
  ],
  "metadata": {
    "colab": {
      "provenance": []
    },
    "kernelspec": {
      "display_name": "Python 3",
      "name": "python3"
    },
    "language_info": {
      "codemirror_mode": {
        "name": "ipython",
        "version": 3
      },
      "file_extension": ".py",
      "mimetype": "text/x-python",
      "name": "python",
      "nbconvert_exporter": "python",
      "pygments_lexer": "ipython3",
      "version": "3.13.2"
    }
  },
  "nbformat": 4,
  "nbformat_minor": 0
}
