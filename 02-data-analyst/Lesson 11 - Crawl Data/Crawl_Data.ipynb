{
 "cells": [
  {
   "cell_type": "markdown",
   "id": "5a1f50b6",
   "metadata": {},
   "source": [
    "# LOAD DATA"
   ]
  },
  {
   "cell_type": "code",
   "execution_count": null,
   "id": "619f7980",
   "metadata": {},
   "outputs": [
    {
     "name": "stdout",
     "output_type": "stream",
     "text": [
      "200\n",
      "Success!\n"
     ]
    }
   ],
   "source": [
    "import requests\n",
    "import warnings\n",
    "warnings.filterwarnings(\"ignore\")\n",
    "\n",
    "url = \"https://agora.ex.nii.ac.jp/digital-typhoon/ibtracs/1895112N11086/index.html.en\"\n",
    "\n",
    "response = requests.get(url)\n",
    "print(response.status_code)\n",
    "if response.status_code == 200:\n",
    "  print(\"Success!\")\n",
    "  # write file html\n",
    "  with open(\"typhoon.html\", \"wb\") as f:\n",
    "    f.write(response.content)\n",
    "else:\n",
    "  print(\"Failure with status_code=\", response.status_code)"
   ]
  }
 ],
 "metadata": {
  "kernelspec": {
   "display_name": "Python 3",
   "language": "python",
   "name": "python3"
  },
  "language_info": {
   "codemirror_mode": {
    "name": "ipython",
    "version": 3
   },
   "file_extension": ".py",
   "mimetype": "text/x-python",
   "name": "python",
   "nbconvert_exporter": "python",
   "pygments_lexer": "ipython3",
   "version": "3.10.11"
  }
 },
 "nbformat": 4,
 "nbformat_minor": 5
}
