{
 "cells": [
  {
   "cell_type": "code",
   "execution_count": null,
   "metadata": {},
   "outputs": [],
   "source": [
    "dict_score = {\n",
    "    \"Toan\": [8.2, 2.4, 4.8, 1.2, 5.3, 8.2, 6.3, 1.8, 3.8, 0.1, 0.8, 1.3, 4.5, 9.6, 4.6, 7.3],\n",
    "    \"Van\": [6.6, 8.2, 9.3, 9.2, 2.0, 5.8, 1.1, 5.8, 4.5, 5.6, 7.2, 2.4, 9.8, 9.8, 2.6, 2.2]\n",
    "}\n",
    "\n",
    "import pandas as pd\n",
    "df = pd.DataFrame(dict_score)"
   ]
  },
  {
   "cell_type": "code",
   "execution_count": 14,
   "metadata": {},
   "outputs": [
    {
     "name": "stdout",
     "output_type": "stream",
     "text": [
      "Phương sai môn Toán: 8.7585\n",
      "Phương sai môn Văn: 9.143958333333334\n"
     ]
    },
    {
     "data": {
      "text/html": [
       "<div>\n",
       "<style scoped>\n",
       "    .dataframe tbody tr th:only-of-type {\n",
       "        vertical-align: middle;\n",
       "    }\n",
       "\n",
       "    .dataframe tbody tr th {\n",
       "        vertical-align: top;\n",
       "    }\n",
       "\n",
       "    .dataframe thead th {\n",
       "        text-align: right;\n",
       "    }\n",
       "</style>\n",
       "<table border=\"1\" class=\"dataframe\">\n",
       "  <thead>\n",
       "    <tr style=\"text-align: right;\">\n",
       "      <th></th>\n",
       "      <th>Toan</th>\n",
       "      <th>Van</th>\n",
       "    </tr>\n",
       "  </thead>\n",
       "  <tbody>\n",
       "    <tr>\n",
       "      <th>count</th>\n",
       "      <td>16.000000</td>\n",
       "      <td>16.000000</td>\n",
       "    </tr>\n",
       "    <tr>\n",
       "      <th>mean</th>\n",
       "      <td>4.387500</td>\n",
       "      <td>5.756250</td>\n",
       "    </tr>\n",
       "    <tr>\n",
       "      <th>std</th>\n",
       "      <td>2.959476</td>\n",
       "      <td>3.023898</td>\n",
       "    </tr>\n",
       "    <tr>\n",
       "      <th>min</th>\n",
       "      <td>0.100000</td>\n",
       "      <td>1.100000</td>\n",
       "    </tr>\n",
       "    <tr>\n",
       "      <th>25%</th>\n",
       "      <td>1.675000</td>\n",
       "      <td>2.550000</td>\n",
       "    </tr>\n",
       "    <tr>\n",
       "      <th>50%</th>\n",
       "      <td>4.550000</td>\n",
       "      <td>5.800000</td>\n",
       "    </tr>\n",
       "    <tr>\n",
       "      <th>75%</th>\n",
       "      <td>6.550000</td>\n",
       "      <td>8.450000</td>\n",
       "    </tr>\n",
       "    <tr>\n",
       "      <th>max</th>\n",
       "      <td>9.600000</td>\n",
       "      <td>9.800000</td>\n",
       "    </tr>\n",
       "  </tbody>\n",
       "</table>\n",
       "</div>"
      ],
      "text/plain": [
       "            Toan        Van\n",
       "count  16.000000  16.000000\n",
       "mean    4.387500   5.756250\n",
       "std     2.959476   3.023898\n",
       "min     0.100000   1.100000\n",
       "25%     1.675000   2.550000\n",
       "50%     4.550000   5.800000\n",
       "75%     6.550000   8.450000\n",
       "max     9.600000   9.800000"
      ]
     },
     "execution_count": 14,
     "metadata": {},
     "output_type": "execute_result"
    }
   ],
   "source": [
    "# Tìm trung bình của điểm Toán và điểm Văn, sau đó so sánh kết quả. Điểm trung bình của 2 môn này có bằng nhau không?\n",
    "# Tìm trung bình của điểm Toán và điểm Văn, sau đó so sánh kết quả. Điểm trung bình của 2 môn này có bằng nhau không?\n",
    "# Tìm phương sai và độ lệch chuẩn của hai mẫu dữ liệu, sau đó so sánh kết quả.\n",
    "print(f\"Phương sai môn Toán: {df[\"Toan\"].var()}\")\n",
    "print(f\"Phương sai môn Văn: {df[\"Van\"].var()}\")\n",
    "df.describe()"
   ]
  },
  {
   "cell_type": "code",
   "execution_count": null,
   "metadata": {},
   "outputs": [
    {
     "data": {
      "text/plain": [
       "<Axes: >"
      ]
     },
     "execution_count": 10,
     "metadata": {},
     "output_type": "execute_result"
    },
    {
     "data": {
      "image/png": "[encoded data removed]",
      "text/plain": [
       "<Figure size 640x480 with 1 Axes>"
      ]
     },
     "metadata": {},
     "output_type": "display_data"
    }
   ],
   "source": [
    "# Dựa vào các kết quả trên, bạn có thể kết luận rằng phân bố điểm của môn Toán và môn Văn có giống nhau hay không?\n",
    "import seaborn as sns\n",
    "sns.set_theme()\n",
    "sns.boxplot(data=df)"
   ]
  },
  {
   "cell_type": "markdown",
   "metadata": {},
   "source": [
    "Không giống rõ ràng phổ điểm của môn Văn cao hơn so với môn Toán."
   ]
  }
 ],
 "metadata": {
  "kernelspec": {
   "display_name": "Python 3",
   "language": "python",
   "name": "python3"
  },
  "language_info": {
   "codemirror_mode": {
    "name": "ipython",
    "version": 3
   },
   "file_extension": ".py",
   "mimetype": "text/x-python",
   "name": "python",
   "nbconvert_exporter": "python",
   "pygments_lexer": "ipython3",
   "version": "3.12.3"
  }
 },
 "nbformat": 4,
 "nbformat_minor": 2
}
