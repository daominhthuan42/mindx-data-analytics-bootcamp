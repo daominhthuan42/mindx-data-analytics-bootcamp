{
 "cells": [
  {
   "cell_type": "code",
   "execution_count": 2,
   "metadata": {},
   "outputs": [],
   "source": [
    "dict_revenue = {\n",
    "    \"2022\": [212312, 361773, 360539, 379341, 222785, 257925],\n",
    "    \"2023\": [201223, 309731, 217418, 391955, 260885, 340934]\n",
    "}\n",
    "\n",
    "import pandas as pd\n",
    "df = pd.DataFrame(dict_revenue)"
   ]
  },
  {
   "cell_type": "code",
   "execution_count": 5,
   "metadata": {},
   "outputs": [
    {
     "name": "stdout",
     "output_type": "stream",
     "text": [
      "Doanh thu 6 tháng đầu tiên năm 2022: 1794675\n",
      "Doanh thu 6 tháng đầu tiên năm 2023: 1722146\n"
     ]
    }
   ],
   "source": [
    "# 1.Tính tổng doanh số của 6 tháng đầu năm 2022, 2023 và so sánh chúng?\n",
    "print(f\"Doanh thu 6 tháng đầu tiên năm 2022: {df[\"2022\"].sum()}\")\n",
    "print(f\"Doanh thu 6 tháng đầu tiên năm 2023: {df[\"2023\"].sum()}\")"
   ]
  },
  {
   "cell_type": "code",
   "execution_count": 6,
   "metadata": {},
   "outputs": [
    {
     "name": "stdout",
     "output_type": "stream",
     "text": [
      "Doanh thu trung bình 6 tháng đầu tiên năm 2022: 299112.5\n",
      "Doanh thu trung bình 6 tháng đầu tiên năm 2023: 287024.3333333333\n"
     ]
    }
   ],
   "source": [
    "# 2. Tìm giá trị trung bình về doanh số mỗi tháng trong 6 tháng đầu năm của 2022 và 2023 sau đó so sánh chúng.\n",
    "print(f\"Doanh thu trung bình 6 tháng đầu tiên năm 2022: {df[\"2022\"].mean()}\")\n",
    "print(f\"Doanh thu trung bình 6 tháng đầu tiên năm 2023: {df[\"2023\"].mean()}\")"
   ]
  },
  {
   "cell_type": "markdown",
   "metadata": {},
   "source": [
    "* Rõ ràng doanh số 6 tháng đầu tiên của năm 2023 giảm so với năm 2022."
   ]
  },
  {
   "cell_type": "code",
   "execution_count": 7,
   "metadata": {},
   "outputs": [
    {
     "data": {
      "text/html": [
       "<div>\n",
       "<style scoped>\n",
       "    .dataframe tbody tr th:only-of-type {\n",
       "        vertical-align: middle;\n",
       "    }\n",
       "\n",
       "    .dataframe tbody tr th {\n",
       "        vertical-align: top;\n",
       "    }\n",
       "\n",
       "    .dataframe thead th {\n",
       "        text-align: right;\n",
       "    }\n",
       "</style>\n",
       "<table border=\"1\" class=\"dataframe\">\n",
       "  <thead>\n",
       "    <tr style=\"text-align: right;\">\n",
       "      <th></th>\n",
       "      <th>2022</th>\n",
       "      <th>2023</th>\n",
       "    </tr>\n",
       "  </thead>\n",
       "  <tbody>\n",
       "    <tr>\n",
       "      <th>count</th>\n",
       "      <td>6.00000</td>\n",
       "      <td>6.000000</td>\n",
       "    </tr>\n",
       "    <tr>\n",
       "      <th>mean</th>\n",
       "      <td>299112.50000</td>\n",
       "      <td>287024.333333</td>\n",
       "    </tr>\n",
       "    <tr>\n",
       "      <th>std</th>\n",
       "      <td>76410.45686</td>\n",
       "      <td>73922.208933</td>\n",
       "    </tr>\n",
       "    <tr>\n",
       "      <th>min</th>\n",
       "      <td>212312.00000</td>\n",
       "      <td>201223.000000</td>\n",
       "    </tr>\n",
       "    <tr>\n",
       "      <th>25%</th>\n",
       "      <td>231570.00000</td>\n",
       "      <td>228284.750000</td>\n",
       "    </tr>\n",
       "    <tr>\n",
       "      <th>50%</th>\n",
       "      <td>309232.00000</td>\n",
       "      <td>285308.000000</td>\n",
       "    </tr>\n",
       "    <tr>\n",
       "      <th>75%</th>\n",
       "      <td>361464.50000</td>\n",
       "      <td>333133.250000</td>\n",
       "    </tr>\n",
       "    <tr>\n",
       "      <th>max</th>\n",
       "      <td>379341.00000</td>\n",
       "      <td>391955.000000</td>\n",
       "    </tr>\n",
       "  </tbody>\n",
       "</table>\n",
       "</div>"
      ],
      "text/plain": [
       "               2022           2023\n",
       "count       6.00000       6.000000\n",
       "mean   299112.50000  287024.333333\n",
       "std     76410.45686   73922.208933\n",
       "min    212312.00000  201223.000000\n",
       "25%    231570.00000  228284.750000\n",
       "50%    309232.00000  285308.000000\n",
       "75%    361464.50000  333133.250000\n",
       "max    379341.00000  391955.000000"
      ]
     },
     "execution_count": 7,
     "metadata": {},
     "output_type": "execute_result"
    }
   ],
   "source": [
    "# 3.Hãy tìm các khoảng tứ phân vị của doanh số 6 tháng đầu năm của năm 2022 và 2023 và so sánh chúng.\n",
    "df.describe()"
   ]
  },
  {
   "cell_type": "code",
   "execution_count": 12,
   "metadata": {},
   "outputs": [
    {
     "data": {
      "image/png": "[encoded data removed]",
      "text/plain": [
       "<Figure size 640x480 with 1 Axes>"
      ]
     },
     "metadata": {},
     "output_type": "display_data"
    }
   ],
   "source": [
    "import seaborn as sns\n",
    "sns.set_theme()\n",
    "sns.boxplot(data=df, palette=\"Set2\");"
   ]
  },
  {
   "cell_type": "markdown",
   "metadata": {},
   "source": [
    "🔴 Doanh số thấp nhất của các năm 2022 và 2023 lần lượt là: `212312` và `201223`. <br>\n",
    "🔴 Có 25% thông tin nhỏ hơn: `231570` (2022) và `228284.75` (2023). <br>\n",
    "🔴 Có 50% thông tin nhỏ hơn: `309232` (2022) và `285308` (2023). <br>\n",
    "🔴 Có 75% thông tin nhỏ hơn: `361464.5` (2022) và `333133.25` (2023). <br>\n",
    "🔴 Doanh thu lớn nhất của các năm 2022 và 2023 lần lượt là `379341` và `391955`."
   ]
  },
  {
   "cell_type": "markdown",
   "metadata": {},
   "source": [
    "**4.Doanh số 6 tháng đầu năm của năm nào có xu hướng “nhiễu” hơn?** <br>\n",
    "\n",
    "Dựa vào biểu đồ boxplot thì doanh thu 6 tháng đầu năm 2023 có xu hướng nhiễu hơn so với năm 2022.\n",
    "- Khoảng giao động dữ liệu năm 2023 rộng hơn năm 2022, nghĩa là doanh số có sự biến động giữa các tháng.\n",
    "- Độ dài các whiskers của năm 2023 dài hơn cho thấy nhiều giá trị nằm xa trung vị, phản ánh sự phân tán cao hơn."
   ]
  },
  {
   "cell_type": "markdown",
   "metadata": {},
   "source": [
    "**5.Dựa vào các thông tin bạn đã tính toán & nhận xét ở các câu trước, bạn hãy nhận xét tình hình kinh doanh của công ty trong 6 tháng đầu năm của 2023 như thế nào so với năm ngoái?**\n",
    "\n",
    "- Doanh thu 3 tháng đầu tiên thì giảm hơn so với năm ngoái nhưng kể từ tháng thứ 4 trở đi doanh số đã tăng so với năm ngoái điều này cho thấy công ty đã có những thay đổi chiến lược phù hợp để cải thiện tình hình kinh doanh."
   ]
  }
 ],
 "metadata": {
  "kernelspec": {
   "display_name": "Python 3",
   "language": "python",
   "name": "python3"
  },
  "language_info": {
   "codemirror_mode": {
    "name": "ipython",
    "version": 3
   },
   "file_extension": ".py",
   "mimetype": "text/x-python",
   "name": "python",
   "nbconvert_exporter": "python",
   "pygments_lexer": "ipython3",
   "version": "3.12.3"
  }
 },
 "nbformat": 4,
 "nbformat_minor": 2
}
